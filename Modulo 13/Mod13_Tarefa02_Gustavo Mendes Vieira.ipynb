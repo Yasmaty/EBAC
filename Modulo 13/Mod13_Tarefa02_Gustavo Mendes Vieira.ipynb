{
 "cells": [
  {
   "cell_type": "markdown",
   "metadata": {},
   "source": [
    "# EBAC - Regressão II - regressão múltipla\n",
    "\n",
    "## Tarefa I"
   ]
  },
  {
   "cell_type": "markdown",
   "metadata": {},
   "source": [
    "#### Previsão de renda II\n",
    "\n",
    "Vamos continuar trabalhando com a base 'previsao_de_renda.csv', que é a base do seu próximo projeto. Vamos usar os recursos que vimos até aqui nesta base.\n",
    "\n",
    "|variavel|descrição|\n",
    "|-|-|\n",
    "|data_ref                | Data de referência de coleta das variáveis |\n",
    "|index                   | Código de identificação do cliente|\n",
    "|sexo                    | Sexo do cliente|\n",
    "|posse_de_veiculo        | Indica se o cliente possui veículo|\n",
    "|posse_de_imovel         | Indica se o cliente possui imóvel|\n",
    "|qtd_filhos              | Quantidade de filhos do cliente|\n",
    "|tipo_renda              | Tipo de renda do cliente|\n",
    "|educacao                | Grau de instrução do cliente|\n",
    "|estado_civil            | Estado civil do cliente|\n",
    "|tipo_residencia         | Tipo de residência do cliente (própria, alugada etc)|\n",
    "|idade                   | Idade do cliente|\n",
    "|tempo_emprego           | Tempo no emprego atual|\n",
    "|qt_pessoas_residencia   | Quantidade de pessoas que moram na residência|\n",
    "|renda                   | Renda em reais|"
   ]
  },
  {
   "cell_type": "code",
   "execution_count": 4,
   "metadata": {},
   "outputs": [],
   "source": [
    "import pandas as pd\n",
    "\n",
    "import seaborn as sns\n",
    "from seaborn import load_dataset\n",
    "\n",
    "import patsy\n",
    "import matplotlib.pyplot as plt\n",
    "import numpy as np\n",
    "\n",
    "import statsmodels.formula.api as smf\n",
    "import statsmodels.api as sm\n",
    "\n",
    "from sklearn.model_selection import train_test_split\n",
    "from sklearn.linear_model import Ridge\n",
    "from sklearn.linear_model import Lasso\n",
    "from sklearn.linear_model import ElasticNet\n",
    "from sklearn.metrics import r2_score\n",
    "from sklearn.ensemble import RandomForestRegressor\n",
    "from sklearn.tree import DecisionTreeRegressor\n",
    "\n",
    "\n",
    "\n",
    "from skopt import BayesSearchCV\n",
    "\n",
    "from mlxtend.feature_selection import SequentialFeatureSelector"
   ]
  },
  {
   "cell_type": "code",
   "execution_count": 5,
   "metadata": {},
   "outputs": [],
   "source": [
    "df = pd.read_csv('previsao_de_renda.csv')"
   ]
  },
  {
   "cell_type": "code",
   "execution_count": 6,
   "metadata": {},
   "outputs": [
    {
     "name": "stdout",
     "output_type": "stream",
     "text": [
      "<class 'pandas.core.frame.DataFrame'>\n",
      "RangeIndex: 15000 entries, 0 to 14999\n",
      "Data columns (total 15 columns):\n",
      " #   Column                 Non-Null Count  Dtype  \n",
      "---  ------                 --------------  -----  \n",
      " 0   Unnamed: 0             15000 non-null  int64  \n",
      " 1   data_ref               15000 non-null  object \n",
      " 2   id_cliente             15000 non-null  int64  \n",
      " 3   sexo                   15000 non-null  object \n",
      " 4   posse_de_veiculo       15000 non-null  bool   \n",
      " 5   posse_de_imovel        15000 non-null  bool   \n",
      " 6   qtd_filhos             15000 non-null  int64  \n",
      " 7   tipo_renda             15000 non-null  object \n",
      " 8   educacao               15000 non-null  object \n",
      " 9   estado_civil           15000 non-null  object \n",
      " 10  tipo_residencia        15000 non-null  object \n",
      " 11  idade                  15000 non-null  int64  \n",
      " 12  tempo_emprego          12427 non-null  float64\n",
      " 13  qt_pessoas_residencia  15000 non-null  float64\n",
      " 14  renda                  15000 non-null  float64\n",
      "dtypes: bool(2), float64(3), int64(4), object(6)\n",
      "memory usage: 1.5+ MB\n"
     ]
    }
   ],
   "source": [
    "df.info()"
   ]
  },
  {
   "cell_type": "markdown",
   "metadata": {},
   "source": [
    "1. Separe a base em treinamento e teste (25% para teste, 75% para treinamento).\n",
    "2. Rode uma regularização *ridge* com alpha = [0, 0.001, 0.005, 0.01, 0.05, 0.1] e avalie o $R^2$ na base de testes. Qual o melhor modelo?\n",
    "3. Faça o mesmo que no passo 2, com uma regressão *LASSO*. Qual método chega a um melhor resultado?\n",
    "4. Rode um modelo *stepwise*. Avalie o $R^2$ na vase de testes. Qual o melhor resultado?\n",
    "5. Compare os parâmetros e avalie eventuais diferenças. Qual modelo você acha o melhor de todos?\n",
    "6. Partindo dos modelos que você ajustou, tente melhorar o $R^2$ na base de testes. Use a criatividade, veja se consegue inserir alguma transformação ou combinação de variáveis.\n",
    "7. Ajuste uma árvore de regressão e veja se consegue um $R^2$ melhor com ela.\n",
    "8. Avalie a previsão mediana do log(renda) nas bases de treinamento e teste. A previsão mediana do log(renda), por hipótese, é o mesmo que a previsão média do log(renda).\n",
    "9. Obtenha a previsão mediana da renda - a mediana é o exponencial do item anterior. Observe que para a média não vale o mesmo resultado.\n",
    "10. Divida a previsão do item 9 em 10 grupos. Calcule a média, mediana, percentil 5% e percentil 95% da renda para cada grupo. Faça um gráfico.\n",
    "Analise e comente as limitações dessa previsão, e reflita sobre o quão útil é este modelo."
   ]
  },
  {
   "cell_type": "markdown",
   "metadata": {},
   "source": [
    "#### Primeiramente o DataFrame será ajustado para poder trabalhar com dummies para que possa trabalhar melhor com os algoritimos de aprendizado e será removido algumas variáveis que não serão usadas."
   ]
  },
  {
   "cell_type": "code",
   "execution_count": 7,
   "metadata": {},
   "outputs": [
    {
     "data": {
      "text/plain": [
       "Index(['Unnamed: 0', 'data_ref', 'id_cliente', 'sexo', 'posse_de_veiculo',\n",
       "       'posse_de_imovel', 'qtd_filhos', 'tipo_renda', 'educacao',\n",
       "       'estado_civil', 'tipo_residencia', 'idade', 'tempo_emprego',\n",
       "       'qt_pessoas_residencia', 'renda'],\n",
       "      dtype='object')"
      ]
     },
     "execution_count": 7,
     "metadata": {},
     "output_type": "execute_result"
    }
   ],
   "source": [
    "# Mostrar todas colunas do DF\n",
    "df.columns"
   ]
  },
  {
   "cell_type": "code",
   "execution_count": 8,
   "metadata": {},
   "outputs": [
    {
     "data": {
      "text/plain": [
       "Index(['sexo', 'posse_de_veiculo', 'posse_de_imovel', 'qtd_filhos',\n",
       "       'tipo_renda', 'educacao', 'estado_civil', 'tipo_residencia', 'idade',\n",
       "       'tempo_emprego', 'qt_pessoas_residencia', 'renda'],\n",
       "      dtype='object')"
      ]
     },
     "execution_count": 8,
     "metadata": {},
     "output_type": "execute_result"
    }
   ],
   "source": [
    "# Remover algumas colunas que não serão usadas\n",
    "df.drop(columns=['Unnamed: 0', 'data_ref', 'id_cliente'], inplace=True)\n",
    "df.columns"
   ]
  },
  {
   "cell_type": "code",
   "execution_count": 9,
   "metadata": {},
   "outputs": [
    {
     "data": {
      "text/html": [
       "<div>\n",
       "<style scoped>\n",
       "    .dataframe tbody tr th:only-of-type {\n",
       "        vertical-align: middle;\n",
       "    }\n",
       "\n",
       "    .dataframe tbody tr th {\n",
       "        vertical-align: top;\n",
       "    }\n",
       "\n",
       "    .dataframe thead th {\n",
       "        text-align: right;\n",
       "    }\n",
       "</style>\n",
       "<table border=\"1\" class=\"dataframe\">\n",
       "  <thead>\n",
       "    <tr style=\"text-align: right;\">\n",
       "      <th></th>\n",
       "      <th>qtd_filhos</th>\n",
       "      <th>idade</th>\n",
       "      <th>tempo_emprego</th>\n",
       "      <th>qt_pessoas_residencia</th>\n",
       "      <th>renda</th>\n",
       "      <th>sexo_F</th>\n",
       "      <th>sexo_M</th>\n",
       "      <th>posse_de_veiculo_False</th>\n",
       "      <th>posse_de_veiculo_True</th>\n",
       "      <th>posse_de_imovel_False</th>\n",
       "      <th>...</th>\n",
       "      <th>estado_civil_Separado</th>\n",
       "      <th>estado_civil_Solteiro</th>\n",
       "      <th>estado_civil_União</th>\n",
       "      <th>estado_civil_Viúvo</th>\n",
       "      <th>tipo_residencia_Aluguel</th>\n",
       "      <th>tipo_residencia_Casa</th>\n",
       "      <th>tipo_residencia_Com os pais</th>\n",
       "      <th>tipo_residencia_Comunitário</th>\n",
       "      <th>tipo_residencia_Estúdio</th>\n",
       "      <th>tipo_residencia_Governamental</th>\n",
       "    </tr>\n",
       "  </thead>\n",
       "  <tbody>\n",
       "    <tr>\n",
       "      <th>0</th>\n",
       "      <td>0</td>\n",
       "      <td>26</td>\n",
       "      <td>6.602740</td>\n",
       "      <td>1.0</td>\n",
       "      <td>8060.34</td>\n",
       "      <td>1</td>\n",
       "      <td>0</td>\n",
       "      <td>1</td>\n",
       "      <td>0</td>\n",
       "      <td>0</td>\n",
       "      <td>...</td>\n",
       "      <td>0</td>\n",
       "      <td>1</td>\n",
       "      <td>0</td>\n",
       "      <td>0</td>\n",
       "      <td>0</td>\n",
       "      <td>1</td>\n",
       "      <td>0</td>\n",
       "      <td>0</td>\n",
       "      <td>0</td>\n",
       "      <td>0</td>\n",
       "    </tr>\n",
       "    <tr>\n",
       "      <th>1</th>\n",
       "      <td>0</td>\n",
       "      <td>28</td>\n",
       "      <td>7.183562</td>\n",
       "      <td>2.0</td>\n",
       "      <td>1852.15</td>\n",
       "      <td>0</td>\n",
       "      <td>1</td>\n",
       "      <td>0</td>\n",
       "      <td>1</td>\n",
       "      <td>0</td>\n",
       "      <td>...</td>\n",
       "      <td>0</td>\n",
       "      <td>0</td>\n",
       "      <td>0</td>\n",
       "      <td>0</td>\n",
       "      <td>0</td>\n",
       "      <td>1</td>\n",
       "      <td>0</td>\n",
       "      <td>0</td>\n",
       "      <td>0</td>\n",
       "      <td>0</td>\n",
       "    </tr>\n",
       "    <tr>\n",
       "      <th>2</th>\n",
       "      <td>0</td>\n",
       "      <td>35</td>\n",
       "      <td>0.838356</td>\n",
       "      <td>2.0</td>\n",
       "      <td>2253.89</td>\n",
       "      <td>1</td>\n",
       "      <td>0</td>\n",
       "      <td>0</td>\n",
       "      <td>1</td>\n",
       "      <td>0</td>\n",
       "      <td>...</td>\n",
       "      <td>0</td>\n",
       "      <td>0</td>\n",
       "      <td>0</td>\n",
       "      <td>0</td>\n",
       "      <td>0</td>\n",
       "      <td>1</td>\n",
       "      <td>0</td>\n",
       "      <td>0</td>\n",
       "      <td>0</td>\n",
       "      <td>0</td>\n",
       "    </tr>\n",
       "  </tbody>\n",
       "</table>\n",
       "<p>3 rows × 32 columns</p>\n",
       "</div>"
      ],
      "text/plain": [
       "   qtd_filhos  idade  tempo_emprego  qt_pessoas_residencia    renda  sexo_F   \n",
       "0           0     26       6.602740                    1.0  8060.34       1  \\\n",
       "1           0     28       7.183562                    2.0  1852.15       0   \n",
       "2           0     35       0.838356                    2.0  2253.89       1   \n",
       "\n",
       "   sexo_M  posse_de_veiculo_False  posse_de_veiculo_True   \n",
       "0       0                       1                      0  \\\n",
       "1       1                       0                      1   \n",
       "2       0                       0                      1   \n",
       "\n",
       "   posse_de_imovel_False  ...  estado_civil_Separado  estado_civil_Solteiro   \n",
       "0                      0  ...                      0                      1  \\\n",
       "1                      0  ...                      0                      0   \n",
       "2                      0  ...                      0                      0   \n",
       "\n",
       "   estado_civil_União  estado_civil_Viúvo  tipo_residencia_Aluguel   \n",
       "0                   0                   0                        0  \\\n",
       "1                   0                   0                        0   \n",
       "2                   0                   0                        0   \n",
       "\n",
       "   tipo_residencia_Casa  tipo_residencia_Com os pais   \n",
       "0                     1                            0  \\\n",
       "1                     1                            0   \n",
       "2                     1                            0   \n",
       "\n",
       "   tipo_residencia_Comunitário  tipo_residencia_Estúdio   \n",
       "0                            0                        0  \\\n",
       "1                            0                        0   \n",
       "2                            0                        0   \n",
       "\n",
       "   tipo_residencia_Governamental  \n",
       "0                              0  \n",
       "1                              0  \n",
       "2                              0  \n",
       "\n",
       "[3 rows x 32 columns]"
      ]
     },
     "execution_count": 9,
     "metadata": {},
     "output_type": "execute_result"
    }
   ],
   "source": [
    "# Guardando as colunas não numéricos\n",
    "non_numeric = df.select_dtypes(include = ['object', 'bool']).columns\n",
    "# Aplicando o get_dummies para transformar as colunas não numéricas em dummies (valores \"bool\", 0, 1)\n",
    "df = pd.get_dummies(df, columns = non_numeric, dtype = int)\n",
    "df.head(3)"
   ]
  },
  {
   "cell_type": "code",
   "execution_count": 10,
   "metadata": {},
   "outputs": [
    {
     "name": "stdout",
     "output_type": "stream",
     "text": [
      "<class 'pandas.core.frame.DataFrame'>\n",
      "RangeIndex: 15000 entries, 0 to 14999\n",
      "Data columns (total 32 columns):\n",
      " #   Column                         Non-Null Count  Dtype  \n",
      "---  ------                         --------------  -----  \n",
      " 0   qtd_filhos                     15000 non-null  int64  \n",
      " 1   idade                          15000 non-null  int64  \n",
      " 2   tempo_emprego                  12427 non-null  float64\n",
      " 3   qt_pessoas_residencia          15000 non-null  float64\n",
      " 4   renda                          15000 non-null  float64\n",
      " 5   sexo_F                         15000 non-null  int32  \n",
      " 6   sexo_M                         15000 non-null  int32  \n",
      " 7   posse_de_veiculo_False         15000 non-null  int32  \n",
      " 8   posse_de_veiculo_True          15000 non-null  int32  \n",
      " 9   posse_de_imovel_False          15000 non-null  int32  \n",
      " 10  posse_de_imovel_True           15000 non-null  int32  \n",
      " 11  tipo_renda_Assalariado         15000 non-null  int32  \n",
      " 12  tipo_renda_Bolsista            15000 non-null  int32  \n",
      " 13  tipo_renda_Empresário          15000 non-null  int32  \n",
      " 14  tipo_renda_Pensionista         15000 non-null  int32  \n",
      " 15  tipo_renda_Servidor público    15000 non-null  int32  \n",
      " 16  educacao_Primário              15000 non-null  int32  \n",
      " 17  educacao_Pós graduação         15000 non-null  int32  \n",
      " 18  educacao_Secundário            15000 non-null  int32  \n",
      " 19  educacao_Superior completo     15000 non-null  int32  \n",
      " 20  educacao_Superior incompleto   15000 non-null  int32  \n",
      " 21  estado_civil_Casado            15000 non-null  int32  \n",
      " 22  estado_civil_Separado          15000 non-null  int32  \n",
      " 23  estado_civil_Solteiro          15000 non-null  int32  \n",
      " 24  estado_civil_União             15000 non-null  int32  \n",
      " 25  estado_civil_Viúvo             15000 non-null  int32  \n",
      " 26  tipo_residencia_Aluguel        15000 non-null  int32  \n",
      " 27  tipo_residencia_Casa           15000 non-null  int32  \n",
      " 28  tipo_residencia_Com os pais    15000 non-null  int32  \n",
      " 29  tipo_residencia_Comunitário    15000 non-null  int32  \n",
      " 30  tipo_residencia_Estúdio        15000 non-null  int32  \n",
      " 31  tipo_residencia_Governamental  15000 non-null  int32  \n",
      "dtypes: float64(3), int32(27), int64(2)\n",
      "memory usage: 2.1 MB\n"
     ]
    }
   ],
   "source": [
    "df.info()"
   ]
  },
  {
   "cell_type": "code",
   "execution_count": 11,
   "metadata": {},
   "outputs": [
    {
     "data": {
      "text/plain": [
       "qtd_filhos                          0\n",
       "idade                               0\n",
       "tempo_emprego                    2573\n",
       "qt_pessoas_residencia               0\n",
       "renda                               0\n",
       "sexo_F                              0\n",
       "sexo_M                              0\n",
       "posse_de_veiculo_False              0\n",
       "posse_de_veiculo_True               0\n",
       "posse_de_imovel_False               0\n",
       "posse_de_imovel_True                0\n",
       "tipo_renda_Assalariado              0\n",
       "tipo_renda_Bolsista                 0\n",
       "tipo_renda_Empresário               0\n",
       "tipo_renda_Pensionista              0\n",
       "tipo_renda_Servidor público         0\n",
       "educacao_Primário                   0\n",
       "educacao_Pós graduação              0\n",
       "educacao_Secundário                 0\n",
       "educacao_Superior completo          0\n",
       "educacao_Superior incompleto        0\n",
       "estado_civil_Casado                 0\n",
       "estado_civil_Separado               0\n",
       "estado_civil_Solteiro               0\n",
       "estado_civil_União                  0\n",
       "estado_civil_Viúvo                  0\n",
       "tipo_residencia_Aluguel             0\n",
       "tipo_residencia_Casa                0\n",
       "tipo_residencia_Com os pais         0\n",
       "tipo_residencia_Comunitário         0\n",
       "tipo_residencia_Estúdio             0\n",
       "tipo_residencia_Governamental       0\n",
       "dtype: int64"
      ]
     },
     "execution_count": 11,
     "metadata": {},
     "output_type": "execute_result"
    }
   ],
   "source": [
    "# Acima no df.info já deu pra perceber que os valores não nulos de tempo_emprego estão diferentes.\n",
    "# Verificando os valores faltantes do DF.\n",
    "df.isnull().sum()"
   ]
  },
  {
   "cell_type": "code",
   "execution_count": 12,
   "metadata": {},
   "outputs": [
    {
     "data": {
      "text/plain": [
       "7.722634652121815"
      ]
     },
     "execution_count": 12,
     "metadata": {},
     "output_type": "execute_result"
    }
   ],
   "source": [
    "# Guardando o valor da média dos valores de tempo_emprego para preencher os valores vazios\n",
    "mean_tempo_emprego = df['tempo_emprego'].mean()\n",
    "mean_tempo_emprego"
   ]
  },
  {
   "cell_type": "markdown",
   "metadata": {},
   "source": [
    "#### Os valores de tempo emprego nulo podem significar que são pessoas desempregadas, o que significaria o tempo de emprego igual a zero, mas como não há confirmação esses valores vão ser substituidos pela média, já que normalmente é um valor de referência para tirar outros parâmetros importantes."
   ]
  },
  {
   "cell_type": "code",
   "execution_count": 13,
   "metadata": {},
   "outputs": [
    {
     "data": {
      "text/plain": [
       "0"
      ]
     },
     "execution_count": 13,
     "metadata": {},
     "output_type": "execute_result"
    }
   ],
   "source": [
    "# Trocando os valores nulos de tempo_emprego pela média\n",
    "df['tempo_emprego'] = df['tempo_emprego'].fillna(mean_tempo_emprego)\n",
    "# Verificando se tem algum valor nulo restante\n",
    "df.isnull().sum().sum()"
   ]
  },
  {
   "cell_type": "markdown",
   "metadata": {},
   "source": [
    "1. Separe a base em treinamento e teste (25% para teste, 75% para treinamento)."
   ]
  },
  {
   "cell_type": "code",
   "execution_count": 14,
   "metadata": {},
   "outputs": [],
   "source": [
    "# Declarando X para guardar as colunas explicativas e y para variável target.\n",
    "X = df.drop(columns=['renda'])\n",
    "y = df['renda']"
   ]
  },
  {
   "cell_type": "code",
   "execution_count": 15,
   "metadata": {},
   "outputs": [],
   "source": [
    "# Realizar a divisão em 75% para treinamento e 25% para teste\n",
    "X_train, X_test, y_train, y_test = train_test_split(X, y, test_size=0.25, random_state=1)"
   ]
  },
  {
   "cell_type": "markdown",
   "metadata": {},
   "source": [
    "2. Rode uma regularização *ridge* com alpha = [0, 0.001, 0.005, 0.01, 0.05, 0.1] e avalie o $R^2$ na base de testes. Qual o melhor modelo?"
   ]
  },
  {
   "cell_type": "code",
   "execution_count": 16,
   "metadata": {},
   "outputs": [
    {
     "name": "stdout",
     "output_type": "stream",
     "text": [
      "{0: 0.25171921207979253, 0.001: 0.2514892015939013, 0.005: 0.2514893069878763, 0.01: 0.251489438588846, 0.05: 0.25149048578827504, 0.1: 0.2514917810128404}\n"
     ]
    }
   ],
   "source": [
    "# Definindo os valores de alpha\n",
    "alphas = [0, 0.001, 0.005, 0.01, 0.05, 0.1]\n",
    "# Criando um dicionário para guardar os valores de alpha como chave e r2 como valor da reg Ridge\n",
    "squares_ridge = {}\n",
    "\n",
    "''' Nesse laço de repetição todos valores da  lista alphas vão ser percorridos e será criado um \n",
    "Ridge para cada valor de alpha, logo depois é extraído o valor do R² com o score e guardado no dicionário'''\n",
    "for alpha in alphas:\n",
    "    reg = Ridge(alpha = alpha)\n",
    "    reg.fit(X_train, y_train)\n",
    "    r2 = reg.score(X_test, y_test)\n",
    "    squares_ridge[alpha] = r2\n",
    "print(squares_ridge)\n"
   ]
  },
  {
   "cell_type": "code",
   "execution_count": 17,
   "metadata": {},
   "outputs": [
    {
     "name": "stdout",
     "output_type": "stream",
     "text": [
      "Melhor ALPHA = 0\n",
      "Melhor R² = 0.25171921207979253\n"
     ]
    }
   ],
   "source": [
    "best_r2_ridge = max(squares_ridge.values())\n",
    "best_alpha_ridge = max(squares_ridge, key = squares_ridge.get)\n",
    "print(f'Melhor ALPHA = {best_alpha_ridge}\\nMelhor R² = {best_r2_ridge}')"
   ]
  },
  {
   "cell_type": "markdown",
   "metadata": {},
   "source": [
    "3. Faça o mesmo que no passo 2, com uma regressão *LASSO*. Qual método chega a um melhor resultado?\n"
   ]
  },
  {
   "cell_type": "code",
   "execution_count": 18,
   "metadata": {
    "scrolled": true
   },
   "outputs": [
    {
     "name": "stderr",
     "output_type": "stream",
     "text": [
      "C:\\Users\\Bill_\\anaconda3\\lib\\site-packages\\sklearn\\base.py:1151: UserWarning: With alpha=0, this algorithm does not converge well. You are advised to use the LinearRegression estimator\n",
      "  return fit_method(estimator, *args, **kwargs)\n",
      "C:\\Users\\Bill_\\anaconda3\\lib\\site-packages\\sklearn\\linear_model\\_coordinate_descent.py:628: UserWarning: Coordinate descent with no regularization may lead to unexpected results and is discouraged.\n",
      "  model = cd_fast.enet_coordinate_descent(\n",
      "C:\\Users\\Bill_\\anaconda3\\lib\\site-packages\\sklearn\\linear_model\\_coordinate_descent.py:628: ConvergenceWarning: Objective did not converge. You might want to increase the number of iterations, check the scale of the features or consider increasing regularisation. Duality gap: 3.051e+11, tolerance: 8.293e+07 Linear regression models with null weight for the l1 regularization term are more efficiently fitted using one of the solvers implemented in sklearn.linear_model.Ridge/RidgeCV instead.\n",
      "  model = cd_fast.enet_coordinate_descent(\n",
      "C:\\Users\\Bill_\\anaconda3\\lib\\site-packages\\sklearn\\linear_model\\_coordinate_descent.py:628: ConvergenceWarning: Objective did not converge. You might want to increase the number of iterations, check the scale of the features or consider increasing regularisation. Duality gap: 2.933e+11, tolerance: 8.293e+07\n",
      "  model = cd_fast.enet_coordinate_descent(\n",
      "C:\\Users\\Bill_\\anaconda3\\lib\\site-packages\\sklearn\\linear_model\\_coordinate_descent.py:628: ConvergenceWarning: Objective did not converge. You might want to increase the number of iterations, check the scale of the features or consider increasing regularisation. Duality gap: 2.512e+11, tolerance: 8.293e+07\n",
      "  model = cd_fast.enet_coordinate_descent(\n",
      "C:\\Users\\Bill_\\anaconda3\\lib\\site-packages\\sklearn\\linear_model\\_coordinate_descent.py:628: ConvergenceWarning: Objective did not converge. You might want to increase the number of iterations, check the scale of the features or consider increasing regularisation. Duality gap: 2.083e+11, tolerance: 8.293e+07\n",
      "  model = cd_fast.enet_coordinate_descent(\n",
      "C:\\Users\\Bill_\\anaconda3\\lib\\site-packages\\sklearn\\linear_model\\_coordinate_descent.py:628: ConvergenceWarning: Objective did not converge. You might want to increase the number of iterations, check the scale of the features or consider increasing regularisation. Duality gap: 1.804e+11, tolerance: 8.293e+07\n",
      "  model = cd_fast.enet_coordinate_descent(\n"
     ]
    },
    {
     "name": "stdout",
     "output_type": "stream",
     "text": [
      "{0: 0.25148907081781, 0.001: 0.25148934303646586, 0.005: 0.2514901910635573, 0.01: 0.251490868410159, 0.05: 0.25149860875999286, 0.1: 0.25150923145007054}\n"
     ]
    },
    {
     "name": "stderr",
     "output_type": "stream",
     "text": [
      "C:\\Users\\Bill_\\anaconda3\\lib\\site-packages\\sklearn\\linear_model\\_coordinate_descent.py:628: ConvergenceWarning: Objective did not converge. You might want to increase the number of iterations, check the scale of the features or consider increasing regularisation. Duality gap: 4.014e+10, tolerance: 8.293e+07\n",
      "  model = cd_fast.enet_coordinate_descent(\n"
     ]
    }
   ],
   "source": [
    "# Criando um dicionário para guardar os valores de alpha como chave e r2 como valor da reg Lasso\n",
    "squares_lasso = {}\n",
    "\n",
    "''' Nesse laço de repetição todos valores da  lista alphas vão ser percorridos e será criado um \n",
    "Ridge para cada valor de alpha, logo depois é extraído o valor do R² com o score e guardado no dicionário'''\n",
    "for alpha in alphas:\n",
    "    reg = Lasso(alpha = alpha)\n",
    "    reg.fit(X_train, y_train)\n",
    "    r2 = reg.score(X_test, y_test)\n",
    "    squares_lasso[alpha] = r2\n",
    "print(squares_lasso)\n"
   ]
  },
  {
   "cell_type": "code",
   "execution_count": 19,
   "metadata": {},
   "outputs": [
    {
     "name": "stdout",
     "output_type": "stream",
     "text": [
      "Melhor ALPHA = 0.1\n",
      "Melhor R² = 0.25150923145007054\n"
     ]
    }
   ],
   "source": [
    "best_r2_lasso = max(squares_lasso.values())\n",
    "best_alpha_lasso = max(squares_lasso, key = squares_lasso.get)\n",
    "print(f'Melhor ALPHA = {best_alpha_lasso}\\nMelhor R² = {best_r2_lasso}')"
   ]
  },
  {
   "cell_type": "markdown",
   "metadata": {},
   "source": [
    "#### Como obtive um monte de avisos sobre usar o alpha igual a zero, que faz com que meu lasso seja uma regressão comum e que pode levar a resultados inesperados, fiz uma novas regressões onde meu alpha que era zero agora está muito próximo de zero, porém não é zero. Além de incluir um maior numero de interações também devido aos avisos.\n",
    "\n",
    "#### Os avisos continuaram, porém isso fez com que meu R² melhorasse um pouquinho."
   ]
  },
  {
   "cell_type": "code",
   "execution_count": 20,
   "metadata": {},
   "outputs": [
    {
     "name": "stderr",
     "output_type": "stream",
     "text": [
      "C:\\Users\\Bill_\\anaconda3\\lib\\site-packages\\sklearn\\linear_model\\_coordinate_descent.py:628: ConvergenceWarning: Objective did not converge. You might want to increase the number of iterations, check the scale of the features or consider increasing regularisation. Duality gap: 6.580e+10, tolerance: 8.293e+07\n",
      "  model = cd_fast.enet_coordinate_descent(\n",
      "C:\\Users\\Bill_\\anaconda3\\lib\\site-packages\\sklearn\\linear_model\\_coordinate_descent.py:628: ConvergenceWarning: Objective did not converge. You might want to increase the number of iterations, check the scale of the features or consider increasing regularisation. Duality gap: 6.580e+10, tolerance: 8.293e+07\n",
      "  model = cd_fast.enet_coordinate_descent(\n",
      "C:\\Users\\Bill_\\anaconda3\\lib\\site-packages\\sklearn\\linear_model\\_coordinate_descent.py:628: ConvergenceWarning: Objective did not converge. You might want to increase the number of iterations, check the scale of the features or consider increasing regularisation. Duality gap: 6.581e+10, tolerance: 8.293e+07\n",
      "  model = cd_fast.enet_coordinate_descent(\n",
      "C:\\Users\\Bill_\\anaconda3\\lib\\site-packages\\sklearn\\linear_model\\_coordinate_descent.py:628: ConvergenceWarning: Objective did not converge. You might want to increase the number of iterations, check the scale of the features or consider increasing regularisation. Duality gap: 7.531e+08, tolerance: 8.293e+07\n",
      "  model = cd_fast.enet_coordinate_descent(\n"
     ]
    },
    {
     "name": "stdout",
     "output_type": "stream",
     "text": [
      "{0.0001: 0.25148920247036766, 0.001: 0.25148935678374285, 0.005: 0.2514900789667466, 0.01: 0.2514912340940938, 0.05: 0.25150048027030136, 0.1: 0.2515120173634581}\n"
     ]
    }
   ],
   "source": [
    "# Definindo novos valores de alpha\n",
    "alphas_2 = [0.0001, 0.001, 0.005, 0.01, 0.05, 0.1]\n",
    "\n",
    "# Criando um dicionário para guardar os valores de alpha como chave e r2 como valor da reg Lasso\n",
    "squares_lasso = {}\n",
    "\n",
    "''' Nesse laço de repetição todos valores da  lista alphas vão ser percorridos e será criado um \n",
    "ElasticNet com l1_ratio com valor para executar o Lasso para cada valor de alpha, \n",
    "logo depois é extraído o valor do R² com o score e guardado no dicionário'''\n",
    "for alpha in alphas_2:\n",
    "    reg = ElasticNet(alpha = alpha, max_iter=10000, l1_ratio = 1)\n",
    "    reg.fit(X_train, y_train)\n",
    "    r2 = reg.score(X_test, y_test)\n",
    "    squares_lasso[alpha] = r2\n",
    "print(squares_lasso)\n"
   ]
  },
  {
   "cell_type": "code",
   "execution_count": 21,
   "metadata": {},
   "outputs": [
    {
     "name": "stdout",
     "output_type": "stream",
     "text": [
      "Melhor ALPHA = 0.1\n",
      "Melhor R² = 0.2515120173634581\n"
     ]
    }
   ],
   "source": [
    "best_r2_lasso = max(squares_lasso.values())\n",
    "best_alpha_lasso = max(squares_lasso, key = squares_lasso.get)\n",
    "print(f'Melhor ALPHA = {best_alpha_lasso}\\nMelhor R² = {best_r2_lasso}')"
   ]
  },
  {
   "cell_type": "markdown",
   "metadata": {},
   "source": [
    "4. Rode um modelo *stepwise*. Avalie o $R^2$ na base de testes. Qual o melhor resultado?\n"
   ]
  },
  {
   "cell_type": "markdown",
   "metadata": {},
   "source": [
    "#### Aqui foi feito um stepwise bidirecional, ou seja, a medida que vai adicionando colunas, são feitas comparações, nesse caso com o P Value >= 0.05 e se esse valor é maior então é removida a coluna. As colunas foram adicionadas com base no panda series criada com o p_values_crescente que retorna os index(as colunas) de forma crescente dos P Value do modelo na base de testes. Note que foi usado o conjunto de dados de df_wise na nova divisão de treino e teste."
   ]
  },
  {
   "cell_type": "code",
   "execution_count": 22,
   "metadata": {
    "scrolled": true
   },
   "outputs": [
    {
     "data": {
      "text/plain": [
       "Index(['tempo_emprego', 'sexo_F', 'sexo_M', 'idade', 'tipo_renda_Pensionista',\n",
       "       'tipo_renda_Empresário', 'educacao_Superior incompleto',\n",
       "       'posse_de_imovel_False', 'estado_civil_União',\n",
       "       'educacao_Superior completo', 'estado_civil_Separado',\n",
       "       'qt_pessoas_residencia', 'estado_civil_Viúvo', 'tipo_residencia_Casa',\n",
       "       'tipo_residencia_Com os pais', 'qtd_filhos', 'posse_de_veiculo_False',\n",
       "       'posse_de_veiculo_True', 'tipo_residencia_Governamental',\n",
       "       'tipo_renda_Servidor público', 'educacao_Secundário',\n",
       "       'estado_civil_Casado', 'educacao_Primário', 'tipo_renda_Assalariado',\n",
       "       'tipo_residencia_Comunitário', 'tipo_renda_Bolsista',\n",
       "       'estado_civil_Solteiro', 'posse_de_imovel_True',\n",
       "       'tipo_residencia_Estúdio', 'educacao_Pós graduação',\n",
       "       'tipo_residencia_Aluguel'],\n",
       "      dtype='object')"
      ]
     },
     "execution_count": 22,
     "metadata": {},
     "output_type": "execute_result"
    }
   ],
   "source": [
    "# Criando o modelo a para coletar os P Value\n",
    "modelo = sm.OLS(y, X).fit()\n",
    "# Criando um Panda Series para guardar os valores de P e suas colunas\n",
    "p_values = modelo.pvalues\n",
    "# Criando um novo Panda Series que salva todas colunas de forma ordenada do menor P para o maior\n",
    "p_values_crescente = p_values.sort_values().index\n",
    "p_values_crescente"
   ]
  },
  {
   "cell_type": "code",
   "execution_count": 23,
   "metadata": {},
   "outputs": [
    {
     "data": {
      "text/html": [
       "<div>\n",
       "<style scoped>\n",
       "    .dataframe tbody tr th:only-of-type {\n",
       "        vertical-align: middle;\n",
       "    }\n",
       "\n",
       "    .dataframe tbody tr th {\n",
       "        vertical-align: top;\n",
       "    }\n",
       "\n",
       "    .dataframe thead th {\n",
       "        text-align: right;\n",
       "    }\n",
       "</style>\n",
       "<table border=\"1\" class=\"dataframe\">\n",
       "  <thead>\n",
       "    <tr style=\"text-align: right;\">\n",
       "      <th></th>\n",
       "      <th>tempo_emprego</th>\n",
       "      <th>sexo_F</th>\n",
       "      <th>sexo_M</th>\n",
       "      <th>idade</th>\n",
       "      <th>tipo_renda_Pensionista</th>\n",
       "      <th>tipo_renda_Empresário</th>\n",
       "    </tr>\n",
       "  </thead>\n",
       "  <tbody>\n",
       "    <tr>\n",
       "      <th>0</th>\n",
       "      <td>6.602740</td>\n",
       "      <td>1</td>\n",
       "      <td>0</td>\n",
       "      <td>26</td>\n",
       "      <td>0</td>\n",
       "      <td>1</td>\n",
       "    </tr>\n",
       "    <tr>\n",
       "      <th>1</th>\n",
       "      <td>7.183562</td>\n",
       "      <td>0</td>\n",
       "      <td>1</td>\n",
       "      <td>28</td>\n",
       "      <td>0</td>\n",
       "      <td>0</td>\n",
       "    </tr>\n",
       "    <tr>\n",
       "      <th>2</th>\n",
       "      <td>0.838356</td>\n",
       "      <td>1</td>\n",
       "      <td>0</td>\n",
       "      <td>35</td>\n",
       "      <td>0</td>\n",
       "      <td>1</td>\n",
       "    </tr>\n",
       "    <tr>\n",
       "      <th>3</th>\n",
       "      <td>4.846575</td>\n",
       "      <td>1</td>\n",
       "      <td>0</td>\n",
       "      <td>30</td>\n",
       "      <td>0</td>\n",
       "      <td>0</td>\n",
       "    </tr>\n",
       "    <tr>\n",
       "      <th>4</th>\n",
       "      <td>4.293151</td>\n",
       "      <td>0</td>\n",
       "      <td>1</td>\n",
       "      <td>33</td>\n",
       "      <td>0</td>\n",
       "      <td>0</td>\n",
       "    </tr>\n",
       "    <tr>\n",
       "      <th>...</th>\n",
       "      <td>...</td>\n",
       "      <td>...</td>\n",
       "      <td>...</td>\n",
       "      <td>...</td>\n",
       "      <td>...</td>\n",
       "      <td>...</td>\n",
       "    </tr>\n",
       "    <tr>\n",
       "      <th>14995</th>\n",
       "      <td>13.887671</td>\n",
       "      <td>1</td>\n",
       "      <td>0</td>\n",
       "      <td>48</td>\n",
       "      <td>0</td>\n",
       "      <td>1</td>\n",
       "    </tr>\n",
       "    <tr>\n",
       "      <th>14996</th>\n",
       "      <td>7.722635</td>\n",
       "      <td>1</td>\n",
       "      <td>0</td>\n",
       "      <td>57</td>\n",
       "      <td>1</td>\n",
       "      <td>0</td>\n",
       "    </tr>\n",
       "    <tr>\n",
       "      <th>14997</th>\n",
       "      <td>7.832877</td>\n",
       "      <td>1</td>\n",
       "      <td>0</td>\n",
       "      <td>45</td>\n",
       "      <td>0</td>\n",
       "      <td>0</td>\n",
       "    </tr>\n",
       "    <tr>\n",
       "      <th>14998</th>\n",
       "      <td>4.298630</td>\n",
       "      <td>0</td>\n",
       "      <td>1</td>\n",
       "      <td>36</td>\n",
       "      <td>0</td>\n",
       "      <td>1</td>\n",
       "    </tr>\n",
       "    <tr>\n",
       "      <th>14999</th>\n",
       "      <td>7.219178</td>\n",
       "      <td>1</td>\n",
       "      <td>0</td>\n",
       "      <td>34</td>\n",
       "      <td>0</td>\n",
       "      <td>0</td>\n",
       "    </tr>\n",
       "  </tbody>\n",
       "</table>\n",
       "<p>15000 rows × 6 columns</p>\n",
       "</div>"
      ],
      "text/plain": [
       "       tempo_emprego  sexo_F  sexo_M  idade  tipo_renda_Pensionista   \n",
       "0           6.602740       1       0     26                       0  \\\n",
       "1           7.183562       0       1     28                       0   \n",
       "2           0.838356       1       0     35                       0   \n",
       "3           4.846575       1       0     30                       0   \n",
       "4           4.293151       0       1     33                       0   \n",
       "...              ...     ...     ...    ...                     ...   \n",
       "14995      13.887671       1       0     48                       0   \n",
       "14996       7.722635       1       0     57                       1   \n",
       "14997       7.832877       1       0     45                       0   \n",
       "14998       4.298630       0       1     36                       0   \n",
       "14999       7.219178       1       0     34                       0   \n",
       "\n",
       "       tipo_renda_Empresário  \n",
       "0                          1  \n",
       "1                          0  \n",
       "2                          1  \n",
       "3                          0  \n",
       "4                          0  \n",
       "...                      ...  \n",
       "14995                      1  \n",
       "14996                      0  \n",
       "14997                      0  \n",
       "14998                      1  \n",
       "14999                      0  \n",
       "\n",
       "[15000 rows x 6 columns]"
      ]
     },
     "execution_count": 23,
     "metadata": {},
     "output_type": "execute_result"
    }
   ],
   "source": [
    "# Criando DF para usar no looping\n",
    "df_wise = pd.DataFrame()\n",
    "\n",
    "for var in p_values_crescente:\n",
    "    df_wise[var] = X[var] #Adicionando a variável da lista crescente (dos value P)\n",
    "    modelo_wise = sm.OLS(y, df_wise).fit() #Criando a reg pra tirar o novo valor P\n",
    "    p_values_wise = modelo_wise.pvalues #Obtendo os novos P value\n",
    "    p_values_filtrado = p_values[p_values>=0.05] #Obtendo colunas com P value alto, para remover\n",
    "    for col in p_values_filtrado.index: #Looping para percorrer os indices de p_values_filtrado\n",
    "        if col in df_wise.columns: #Se o indice de p_values_filtrado estiver nas colunas de df_wise\n",
    "            df_wise.drop(col, axis=1, inplace=True) #Deleta aquela coluna que está entre os P value >=0.05\n",
    "    \n",
    "    \n",
    "df_wise"
   ]
  },
  {
   "cell_type": "markdown",
   "metadata": {},
   "source": [
    "#### Criado uma nova regressão após o stepwise e foi obtido um R² de 0.258, ligeiramente melhor do que o obtido com o Lasso e Ridge"
   ]
  },
  {
   "cell_type": "code",
   "execution_count": 24,
   "metadata": {},
   "outputs": [
    {
     "data": {
      "text/html": [
       "<table class=\"simpletable\">\n",
       "<caption>OLS Regression Results</caption>\n",
       "<tr>\n",
       "  <th>Dep. Variable:</th>          <td>renda</td>      <th>  R-squared:         </th> <td>   0.258</td> \n",
       "</tr>\n",
       "<tr>\n",
       "  <th>Model:</th>                   <td>OLS</td>       <th>  Adj. R-squared:    </th> <td>   0.257</td> \n",
       "</tr>\n",
       "<tr>\n",
       "  <th>Method:</th>             <td>Least Squares</td>  <th>  F-statistic:       </th> <td>   260.5</td> \n",
       "</tr>\n",
       "<tr>\n",
       "  <th>Date:</th>             <td>Mon, 14 Aug 2023</td> <th>  Prob (F-statistic):</th> <td>1.50e-239</td>\n",
       "</tr>\n",
       "<tr>\n",
       "  <th>Time:</th>                 <td>10:04:14</td>     <th>  Log-Likelihood:    </th> <td> -38081.</td> \n",
       "</tr>\n",
       "<tr>\n",
       "  <th>No. Observations:</th>      <td>  3750</td>      <th>  AIC:               </th> <td>7.617e+04</td>\n",
       "</tr>\n",
       "<tr>\n",
       "  <th>Df Residuals:</th>          <td>  3744</td>      <th>  BIC:               </th> <td>7.621e+04</td>\n",
       "</tr>\n",
       "<tr>\n",
       "  <th>Df Model:</th>              <td>     5</td>      <th>                     </th>     <td> </td>    \n",
       "</tr>\n",
       "<tr>\n",
       "  <th>Covariance Type:</th>      <td>nonrobust</td>    <th>                     </th>     <td> </td>    \n",
       "</tr>\n",
       "</table>\n",
       "<table class=\"simpletable\">\n",
       "<tr>\n",
       "             <td></td>               <th>coef</th>     <th>std err</th>      <th>t</th>      <th>P>|t|</th>  <th>[0.025</th>    <th>0.975]</th>  \n",
       "</tr>\n",
       "<tr>\n",
       "  <th>tempo_emprego</th>          <td>  493.5944</td> <td>   17.888</td> <td>   27.594</td> <td> 0.000</td> <td>  458.523</td> <td>  528.666</td>\n",
       "</tr>\n",
       "<tr>\n",
       "  <th>sexo_F</th>                 <td> -442.2864</td> <td>  530.530</td> <td>   -0.834</td> <td> 0.405</td> <td>-1482.442</td> <td>  597.869</td>\n",
       "</tr>\n",
       "<tr>\n",
       "  <th>sexo_M</th>                 <td> 4858.1862</td> <td>  503.492</td> <td>    9.649</td> <td> 0.000</td> <td> 3871.042</td> <td> 5845.331</td>\n",
       "</tr>\n",
       "<tr>\n",
       "  <th>idade</th>                  <td>   10.1295</td> <td>   12.433</td> <td>    0.815</td> <td> 0.415</td> <td>  -14.247</td> <td>   34.506</td>\n",
       "</tr>\n",
       "<tr>\n",
       "  <th>tipo_renda_Pensionista</th> <td> -909.2943</td> <td>  356.852</td> <td>   -2.548</td> <td> 0.011</td> <td>-1608.938</td> <td> -209.651</td>\n",
       "</tr>\n",
       "<tr>\n",
       "  <th>tipo_renda_Empresário</th>  <td> 1101.9351</td> <td>  250.511</td> <td>    4.399</td> <td> 0.000</td> <td>  610.784</td> <td> 1593.087</td>\n",
       "</tr>\n",
       "</table>\n",
       "<table class=\"simpletable\">\n",
       "<tr>\n",
       "  <th>Omnibus:</th>       <td>4489.464</td> <th>  Durbin-Watson:     </th>  <td>   2.034</td> \n",
       "</tr>\n",
       "<tr>\n",
       "  <th>Prob(Omnibus):</th>  <td> 0.000</td>  <th>  Jarque-Bera (JB):  </th> <td>942906.207</td>\n",
       "</tr>\n",
       "<tr>\n",
       "  <th>Skew:</th>           <td> 6.106</td>  <th>  Prob(JB):          </th>  <td>    0.00</td> \n",
       "</tr>\n",
       "<tr>\n",
       "  <th>Kurtosis:</th>       <td>79.717</td>  <th>  Cond. No.          </th>  <td>    334.</td> \n",
       "</tr>\n",
       "</table><br/><br/>Notes:<br/>[1] Standard Errors assume that the covariance matrix of the errors is correctly specified."
      ],
      "text/plain": [
       "<class 'statsmodels.iolib.summary.Summary'>\n",
       "\"\"\"\n",
       "                            OLS Regression Results                            \n",
       "==============================================================================\n",
       "Dep. Variable:                  renda   R-squared:                       0.258\n",
       "Model:                            OLS   Adj. R-squared:                  0.257\n",
       "Method:                 Least Squares   F-statistic:                     260.5\n",
       "Date:                Mon, 14 Aug 2023   Prob (F-statistic):          1.50e-239\n",
       "Time:                        10:04:14   Log-Likelihood:                -38081.\n",
       "No. Observations:                3750   AIC:                         7.617e+04\n",
       "Df Residuals:                    3744   BIC:                         7.621e+04\n",
       "Df Model:                           5                                         \n",
       "Covariance Type:            nonrobust                                         \n",
       "==========================================================================================\n",
       "                             coef    std err          t      P>|t|      [0.025      0.975]\n",
       "------------------------------------------------------------------------------------------\n",
       "tempo_emprego            493.5944     17.888     27.594      0.000     458.523     528.666\n",
       "sexo_F                  -442.2864    530.530     -0.834      0.405   -1482.442     597.869\n",
       "sexo_M                  4858.1862    503.492      9.649      0.000    3871.042    5845.331\n",
       "idade                     10.1295     12.433      0.815      0.415     -14.247      34.506\n",
       "tipo_renda_Pensionista  -909.2943    356.852     -2.548      0.011   -1608.938    -209.651\n",
       "tipo_renda_Empresário   1101.9351    250.511      4.399      0.000     610.784    1593.087\n",
       "==============================================================================\n",
       "Omnibus:                     4489.464   Durbin-Watson:                   2.034\n",
       "Prob(Omnibus):                  0.000   Jarque-Bera (JB):           942906.207\n",
       "Skew:                           6.106   Prob(JB):                         0.00\n",
       "Kurtosis:                      79.717   Cond. No.                         334.\n",
       "==============================================================================\n",
       "\n",
       "Notes:\n",
       "[1] Standard Errors assume that the covariance matrix of the errors is correctly specified.\n",
       "\"\"\""
      ]
     },
     "execution_count": 24,
     "metadata": {},
     "output_type": "execute_result"
    }
   ],
   "source": [
    "# Dividindo novamente os dados em treino e teste, só que dessa vez usando o conjunto de dados de df_wise\n",
    "X_train_wise, X_test_wise, y_train_wise, y_test_wise = train_test_split(df_wise, y, test_size=0.25, random_state=1)\n",
    "\n",
    "modelo_wise = sm.OLS(y_test_wise, X_test_wise).fit()\n",
    "modelo_wise.summary()"
   ]
  },
  {
   "cell_type": "markdown",
   "metadata": {},
   "source": [
    "5. Compare os parâmetros e avalie eventuais diferenças. Qual modelo você acha o melhor de todos?\n"
   ]
  },
  {
   "cell_type": "markdown",
   "metadata": {},
   "source": [
    "O último modelo com stepwise teve um resultado de R² melhor do que os demais e está usando apenas as variáveis estatistacamente relevantes, além de estar rodando com conjunto de testes, porém é difícil dizer qual é o melhor, seria útil fazer uma validação cruzada e explorar um pouco mais."
   ]
  },
  {
   "cell_type": "markdown",
   "metadata": {},
   "source": [
    "6. Partindo dos modelos que você ajustou, tente melhorar o $R^2$ na base de testes. Use a criatividade, veja se consegue inserir alguma transformação ou combinação de variáveis.\n"
   ]
  },
  {
   "cell_type": "code",
   "execution_count": 25,
   "metadata": {},
   "outputs": [],
   "source": [
    "# Guardando os valores preditos \n",
    "y_pred_wise = modelo_wise.predict(X_test_wise)\n",
    "# Calculando diferença do dado real pro dado predito\n",
    "residuos = y_test_wise - y_pred_wise"
   ]
  },
  {
   "cell_type": "markdown",
   "metadata": {},
   "source": [
    "#### Aqui será avaliado um gráfico de resíduos para verificar como está se comportando os outliers"
   ]
  },
  {
   "cell_type": "code",
   "execution_count": 26,
   "metadata": {},
   "outputs": [
    {
     "data": {
      "image/png": "[encoded data removed]",
      "text/plain": [
       "<Figure size 640x480 with 1 Axes>"
      ]
     },
     "metadata": {},
     "output_type": "display_data"
    }
   ],
   "source": [
    "sns.scatterplot(x=y_pred_wise, y=residuos)\n",
    "plt.axhline(y=0, color='red', linestyle='--')\n",
    "plt.xlabel('Valores Previstos')\n",
    "plt.ylabel('Resíduos (renda)')\n",
    "plt.title('Gráfico de Resíduos')\n",
    "plt.show()"
   ]
  },
  {
   "cell_type": "markdown",
   "metadata": {},
   "source": [
    "#### Alguns dados estão muito distantes da média e isso parece se intensificar a medida que a reta avança, como está sendo tratado um valor em dinheiro que pode ser facilmente escalonado, será alterado o valor da variável resposta para log e verificar essa nova relação.\n",
    "#### -\n",
    "##### Acabei mantendo os nomes das variáveis porque começaria a ficar um nome muito extenso."
   ]
  },
  {
   "cell_type": "code",
   "execution_count": 27,
   "metadata": {},
   "outputs": [],
   "source": [
    "# Criando a coluna da resposta do y em log\n",
    "y_log = np.log(y)\n",
    "# Dividindo novamente em treino e teste para y com valor em log\n",
    "X_train_wise, X_test_wise, y_train_wise, y_test_wise = train_test_split(\n",
    "                                                        df_wise, y_log, test_size=0.25, random_state=1)"
   ]
  },
  {
   "cell_type": "code",
   "execution_count": 28,
   "metadata": {},
   "outputs": [
    {
     "data": {
      "text/html": [
       "<table class=\"simpletable\">\n",
       "<caption>OLS Regression Results</caption>\n",
       "<tr>\n",
       "  <th>Dep. Variable:</th>          <td>renda</td>      <th>  R-squared:         </th> <td>   0.311</td> \n",
       "</tr>\n",
       "<tr>\n",
       "  <th>Model:</th>                   <td>OLS</td>       <th>  Adj. R-squared:    </th> <td>   0.310</td> \n",
       "</tr>\n",
       "<tr>\n",
       "  <th>Method:</th>             <td>Least Squares</td>  <th>  F-statistic:       </th> <td>   338.5</td> \n",
       "</tr>\n",
       "<tr>\n",
       "  <th>Date:</th>             <td>Mon, 14 Aug 2023</td> <th>  Prob (F-statistic):</th> <td>6.50e-300</td>\n",
       "</tr>\n",
       "<tr>\n",
       "  <th>Time:</th>                 <td>10:04:14</td>     <th>  Log-Likelihood:    </th> <td> -4103.3</td> \n",
       "</tr>\n",
       "<tr>\n",
       "  <th>No. Observations:</th>      <td>  3750</td>      <th>  AIC:               </th> <td>   8219.</td> \n",
       "</tr>\n",
       "<tr>\n",
       "  <th>Df Residuals:</th>          <td>  3744</td>      <th>  BIC:               </th> <td>   8256.</td> \n",
       "</tr>\n",
       "<tr>\n",
       "  <th>Df Model:</th>              <td>     5</td>      <th>                     </th>     <td> </td>    \n",
       "</tr>\n",
       "<tr>\n",
       "  <th>Covariance Type:</th>      <td>nonrobust</td>    <th>                     </th>     <td> </td>    \n",
       "</tr>\n",
       "</table>\n",
       "<table class=\"simpletable\">\n",
       "<tr>\n",
       "             <td></td>               <th>coef</th>     <th>std err</th>      <th>t</th>      <th>P>|t|</th>  <th>[0.025</th>    <th>0.975]</th>  \n",
       "</tr>\n",
       "<tr>\n",
       "  <th>tempo_emprego</th>          <td>    0.0602</td> <td>    0.002</td> <td>   28.989</td> <td> 0.000</td> <td>    0.056</td> <td>    0.064</td>\n",
       "</tr>\n",
       "<tr>\n",
       "  <th>sexo_F</th>                 <td>    7.3430</td> <td>    0.062</td> <td>  119.171</td> <td> 0.000</td> <td>    7.222</td> <td>    7.464</td>\n",
       "</tr>\n",
       "<tr>\n",
       "  <th>sexo_M</th>                 <td>    8.1045</td> <td>    0.058</td> <td>  138.591</td> <td> 0.000</td> <td>    7.990</td> <td>    8.219</td>\n",
       "</tr>\n",
       "<tr>\n",
       "  <th>idade</th>                  <td>    0.0034</td> <td>    0.001</td> <td>    2.383</td> <td> 0.017</td> <td>    0.001</td> <td>    0.006</td>\n",
       "</tr>\n",
       "<tr>\n",
       "  <th>tipo_renda_Pensionista</th> <td>   -0.1596</td> <td>    0.041</td> <td>   -3.851</td> <td> 0.000</td> <td>   -0.241</td> <td>   -0.078</td>\n",
       "</tr>\n",
       "<tr>\n",
       "  <th>tipo_renda_Empresário</th>  <td>    0.1887</td> <td>    0.029</td> <td>    6.486</td> <td> 0.000</td> <td>    0.132</td> <td>    0.246</td>\n",
       "</tr>\n",
       "</table>\n",
       "<table class=\"simpletable\">\n",
       "<tr>\n",
       "  <th>Omnibus:</th>       <td> 2.661</td> <th>  Durbin-Watson:     </th> <td>   2.012</td>\n",
       "</tr>\n",
       "<tr>\n",
       "  <th>Prob(Omnibus):</th> <td> 0.264</td> <th>  Jarque-Bera (JB):  </th> <td>   2.595</td>\n",
       "</tr>\n",
       "<tr>\n",
       "  <th>Skew:</th>          <td>-0.058</td> <th>  Prob(JB):          </th> <td>   0.273</td>\n",
       "</tr>\n",
       "<tr>\n",
       "  <th>Kurtosis:</th>      <td> 3.057</td> <th>  Cond. No.          </th> <td>    334.</td>\n",
       "</tr>\n",
       "</table><br/><br/>Notes:<br/>[1] Standard Errors assume that the covariance matrix of the errors is correctly specified."
      ],
      "text/plain": [
       "<class 'statsmodels.iolib.summary.Summary'>\n",
       "\"\"\"\n",
       "                            OLS Regression Results                            \n",
       "==============================================================================\n",
       "Dep. Variable:                  renda   R-squared:                       0.311\n",
       "Model:                            OLS   Adj. R-squared:                  0.310\n",
       "Method:                 Least Squares   F-statistic:                     338.5\n",
       "Date:                Mon, 14 Aug 2023   Prob (F-statistic):          6.50e-300\n",
       "Time:                        10:04:14   Log-Likelihood:                -4103.3\n",
       "No. Observations:                3750   AIC:                             8219.\n",
       "Df Residuals:                    3744   BIC:                             8256.\n",
       "Df Model:                           5                                         \n",
       "Covariance Type:            nonrobust                                         \n",
       "==========================================================================================\n",
       "                             coef    std err          t      P>|t|      [0.025      0.975]\n",
       "------------------------------------------------------------------------------------------\n",
       "tempo_emprego              0.0602      0.002     28.989      0.000       0.056       0.064\n",
       "sexo_F                     7.3430      0.062    119.171      0.000       7.222       7.464\n",
       "sexo_M                     8.1045      0.058    138.591      0.000       7.990       8.219\n",
       "idade                      0.0034      0.001      2.383      0.017       0.001       0.006\n",
       "tipo_renda_Pensionista    -0.1596      0.041     -3.851      0.000      -0.241      -0.078\n",
       "tipo_renda_Empresário      0.1887      0.029      6.486      0.000       0.132       0.246\n",
       "==============================================================================\n",
       "Omnibus:                        2.661   Durbin-Watson:                   2.012\n",
       "Prob(Omnibus):                  0.264   Jarque-Bera (JB):                2.595\n",
       "Skew:                          -0.058   Prob(JB):                        0.273\n",
       "Kurtosis:                       3.057   Cond. No.                         334.\n",
       "==============================================================================\n",
       "\n",
       "Notes:\n",
       "[1] Standard Errors assume that the covariance matrix of the errors is correctly specified.\n",
       "\"\"\""
      ]
     },
     "execution_count": 28,
     "metadata": {},
     "output_type": "execute_result"
    }
   ],
   "source": [
    "# Nesse modelo a diferença é que os dados de treino e teste agora foram comparados com y em LOG\n",
    "modelo_wise = sm.OLS(y_test_wise, X_test_wise).fit()\n",
    "modelo_wise.summary()"
   ]
  },
  {
   "cell_type": "code",
   "execution_count": 29,
   "metadata": {},
   "outputs": [
    {
     "data": {
      "image/png": "[encoded data removed]",
      "text/plain": [
       "<Figure size 640x480 with 1 Axes>"
      ]
     },
     "metadata": {},
     "output_type": "display_data"
    }
   ],
   "source": [
    "# Guardando os valores preditos\n",
    "y_pred_wise = modelo_wise.predict(X_test_wise)\n",
    "# Calculando diferença do dado real pro dado predito\n",
    "residuos = y_test_wise - y_pred_wise\n",
    "\n",
    "sns.scatterplot(x=y_pred_wise, y=residuos)\n",
    "plt.axhline(y=0, color='red', linestyle='--')\n",
    "plt.xlabel('Valores Previstos')\n",
    "plt.ylabel('Resíduos (log de renda)')\n",
    "plt.title('Gráfico de Resíduos em Log')\n",
    "plt.show()"
   ]
  },
  {
   "cell_type": "markdown",
   "metadata": {},
   "source": [
    "7. Ajuste uma árvore de regressão e veja se consegue um $R^2$ melhor com ela.\n"
   ]
  },
  {
   "cell_type": "markdown",
   "metadata": {},
   "source": [
    "#### Foi obtido um valor quase que semelhante ao resultado anterior na base de teste, porém a base de treino está com um valor muito melhor, o que indica um overfitting. Lembrando que os valores de y continuam em log."
   ]
  },
  {
   "cell_type": "code",
   "execution_count": 30,
   "metadata": {},
   "outputs": [
    {
     "name": "stdout",
     "output_type": "stream",
     "text": [
      "R² treino: 0.695212941882947\n",
      "R² teste: 0.30729340852698006\n"
     ]
    }
   ],
   "source": [
    "# Criando a árvore de regressão\n",
    "arvore_reg = DecisionTreeRegressor(random_state = 1)\n",
    "# Ajustando a árvore de regressão com os dados de treino\n",
    "arvore_reg.fit(X_train_wise, y_train_wise)\n",
    "\n",
    "# Predição dos dados de treino e teste\n",
    "y_pred_train = arvore_reg.predict(X_train_wise)\n",
    "y_pred_test = arvore_reg.predict(X_test_wise)\n",
    "\n",
    "# Comparando com o \"gabarito\" para calcular o R²\n",
    "r2_treino = r2_score(y_train_wise, y_pred_train)\n",
    "r2_teste = r2_score(y_test_wise, y_pred_test)\n",
    "\n",
    "print(f\"R² treino: {r2_treino}\\nR² teste: {r2_teste}\")"
   ]
  },
  {
   "cell_type": "markdown",
   "metadata": {},
   "source": [
    "#### Será utilizado a Otimização Bayesiana para definir melhor profundidade e número minimo de folhas"
   ]
  },
  {
   "cell_type": "code",
   "execution_count": 31,
   "metadata": {},
   "outputs": [
    {
     "data": {
      "text/plain": [
       "28"
      ]
     },
     "execution_count": 31,
     "metadata": {},
     "output_type": "execute_result"
    }
   ],
   "source": [
    "# Declarando uma variável para obter informações da árvore de regressão já criada\n",
    "arvore_infos = arvore_reg.tree_\n",
    "\n",
    "# Obtendo a profundidade máxima da árvore\n",
    "profundidade_maxima = arvore_infos.max_depth\n",
    "profundidade_maxima"
   ]
  },
  {
   "cell_type": "code",
   "execution_count": 32,
   "metadata": {},
   "outputs": [
    {
     "data": {
      "text/plain": [
       "{'max_depth': (1, 28), 'min_samples_split': (112, 1125)}"
      ]
     },
     "execution_count": 32,
     "metadata": {},
     "output_type": "execute_result"
    }
   ],
   "source": [
    "'''Para se ajustar o minimo de amostras de uma maneira proporcional, \n",
    "será passado os valores em porcentagem'''\n",
    "# Guardando o tamanho total de amostras no amostras_total\n",
    "amostras_total = len(X_train_wise)\n",
    "# Definindo o minimo da faixa de valores do minimo de amostras a ser aceito na arvore\n",
    "min_samples_minimo = int(amostras_total * 0.01) # Definindo em 1%\n",
    "# Definindo o máximo da faixa de valores do minimo de amostras a ser aceita na arvore\n",
    "min_samples_maximo = int(amostras_total * 0.10) #Definindo em 10%\n",
    "\n",
    "\n",
    "# Definir os hiperparâmetros e suas faixas de busca\n",
    "parametros = {\n",
    "    'max_depth': (1, profundidade_maxima), # Faixa de valores da profundidade máxima\n",
    "    'min_samples_split': (min_samples_minimo, min_samples_maximo), # Faixa de valores do minimo de amostras aceita na arvore\n",
    "}\n",
    "\n",
    "parametros"
   ]
  },
  {
   "cell_type": "markdown",
   "metadata": {},
   "source": [
    "#### Aqui foi obtido um resultado melhor de R² em 35% ao utilizar 10 arvores"
   ]
  },
  {
   "cell_type": "code",
   "execution_count": 33,
   "metadata": {},
   "outputs": [
    {
     "ename": "AttributeError",
     "evalue": "module 'numpy' has no attribute 'int'.\n`np.int` was a deprecated alias for the builtin `int`. To avoid this error in existing code, use `int` by itself. Doing this will not modify any behavior and is safe. When replacing `np.int`, you may wish to use e.g. `np.int64` or `np.int32` to specify the precision. If you wish to review your current use, check the release note link for additional information.\nThe aliases was originally deprecated in NumPy 1.20; for more details and guidance see the original release note at:\n    https://numpy.org/devdocs/release/1.20.0-notes.html#deprecations",
     "output_type": "error",
     "traceback": [
      "\u001b[1;31m---------------------------------------------------------------------------\u001b[0m",
      "\u001b[1;31mAttributeError\u001b[0m                            Traceback (most recent call last)",
      "Cell \u001b[1;32mIn[33], line 9\u001b[0m\n\u001b[0;32m      4\u001b[0m \u001b[38;5;124;03m'''Declarando a otimização usando a arvore_bay e os parametros declarados acima, \u001b[39;00m\n\u001b[0;32m      5\u001b[0m \u001b[38;5;124;03mo valor de 50 vai ser o número de iterações e o cv=5 é a quantidade de porções que \u001b[39;00m\n\u001b[0;32m      6\u001b[0m \u001b[38;5;124;03mos dados de treino e teste serão divididos, então as iterações vão ser feitas com\u001b[39;00m\n\u001b[0;32m      7\u001b[0m \u001b[38;5;124;03m5 dividões de testes diferentes'''\u001b[39;00m\n\u001b[0;32m      8\u001b[0m otimizacao_bayesiana \u001b[38;5;241m=\u001b[39m BayesSearchCV(arvore_bay, parametros, n_iter \u001b[38;5;241m=\u001b[39m \u001b[38;5;241m50\u001b[39m, cv \u001b[38;5;241m=\u001b[39m \u001b[38;5;241m5\u001b[39m)\n\u001b[1;32m----> 9\u001b[0m \u001b[43motimizacao_bayesiana\u001b[49m\u001b[38;5;241;43m.\u001b[39;49m\u001b[43mfit\u001b[49m\u001b[43m(\u001b[49m\u001b[43mX_train_wise\u001b[49m\u001b[43m,\u001b[49m\u001b[43m \u001b[49m\u001b[43my_train_wise\u001b[49m\u001b[43m)\u001b[49m\n\u001b[0;32m     11\u001b[0m \u001b[38;5;66;03m# Obtendo a melhor profundidade\u001b[39;00m\n\u001b[0;32m     12\u001b[0m melhor_profundidade \u001b[38;5;241m=\u001b[39m otimizacao_bayesiana\u001b[38;5;241m.\u001b[39mbest_params_[\u001b[38;5;124m'\u001b[39m\u001b[38;5;124mmax_depth\u001b[39m\u001b[38;5;124m'\u001b[39m]\n",
      "File \u001b[1;32m~\\anaconda3\\lib\\site-packages\\skopt\\searchcv.py:466\u001b[0m, in \u001b[0;36mBayesSearchCV.fit\u001b[1;34m(self, X, y, groups, callback, **fit_params)\u001b[0m\n\u001b[0;32m    463\u001b[0m \u001b[38;5;28;01melse\u001b[39;00m:\n\u001b[0;32m    464\u001b[0m     \u001b[38;5;28mself\u001b[39m\u001b[38;5;241m.\u001b[39moptimizer_kwargs_ \u001b[38;5;241m=\u001b[39m \u001b[38;5;28mdict\u001b[39m(\u001b[38;5;28mself\u001b[39m\u001b[38;5;241m.\u001b[39moptimizer_kwargs)\n\u001b[1;32m--> 466\u001b[0m \u001b[38;5;28msuper\u001b[39m()\u001b[38;5;241m.\u001b[39mfit(X\u001b[38;5;241m=\u001b[39mX, y\u001b[38;5;241m=\u001b[39my, groups\u001b[38;5;241m=\u001b[39mgroups, \u001b[38;5;241m*\u001b[39m\u001b[38;5;241m*\u001b[39mfit_params)\n\u001b[0;32m    468\u001b[0m \u001b[38;5;66;03m# BaseSearchCV never ranked train scores,\u001b[39;00m\n\u001b[0;32m    469\u001b[0m \u001b[38;5;66;03m# but apparently we used to ship this (back-compat)\u001b[39;00m\n\u001b[0;32m    470\u001b[0m \u001b[38;5;28;01mif\u001b[39;00m \u001b[38;5;28mself\u001b[39m\u001b[38;5;241m.\u001b[39mreturn_train_score:\n",
      "File \u001b[1;32m~\\anaconda3\\lib\\site-packages\\sklearn\\base.py:1151\u001b[0m, in \u001b[0;36m_fit_context.<locals>.decorator.<locals>.wrapper\u001b[1;34m(estimator, *args, **kwargs)\u001b[0m\n\u001b[0;32m   1144\u001b[0m     estimator\u001b[38;5;241m.\u001b[39m_validate_params()\n\u001b[0;32m   1146\u001b[0m \u001b[38;5;28;01mwith\u001b[39;00m config_context(\n\u001b[0;32m   1147\u001b[0m     skip_parameter_validation\u001b[38;5;241m=\u001b[39m(\n\u001b[0;32m   1148\u001b[0m         prefer_skip_nested_validation \u001b[38;5;129;01mor\u001b[39;00m global_skip_validation\n\u001b[0;32m   1149\u001b[0m     )\n\u001b[0;32m   1150\u001b[0m ):\n\u001b[1;32m-> 1151\u001b[0m     \u001b[38;5;28;01mreturn\u001b[39;00m fit_method(estimator, \u001b[38;5;241m*\u001b[39margs, \u001b[38;5;241m*\u001b[39m\u001b[38;5;241m*\u001b[39mkwargs)\n",
      "File \u001b[1;32m~\\anaconda3\\lib\\site-packages\\sklearn\\model_selection\\_search.py:898\u001b[0m, in \u001b[0;36mBaseSearchCV.fit\u001b[1;34m(self, X, y, groups, **fit_params)\u001b[0m\n\u001b[0;32m    892\u001b[0m     results \u001b[38;5;241m=\u001b[39m \u001b[38;5;28mself\u001b[39m\u001b[38;5;241m.\u001b[39m_format_results(\n\u001b[0;32m    893\u001b[0m         all_candidate_params, n_splits, all_out, all_more_results\n\u001b[0;32m    894\u001b[0m     )\n\u001b[0;32m    896\u001b[0m     \u001b[38;5;28;01mreturn\u001b[39;00m results\n\u001b[1;32m--> 898\u001b[0m \u001b[38;5;28;43mself\u001b[39;49m\u001b[38;5;241;43m.\u001b[39;49m\u001b[43m_run_search\u001b[49m\u001b[43m(\u001b[49m\u001b[43mevaluate_candidates\u001b[49m\u001b[43m)\u001b[49m\n\u001b[0;32m    900\u001b[0m \u001b[38;5;66;03m# multimetric is determined here because in the case of a callable\u001b[39;00m\n\u001b[0;32m    901\u001b[0m \u001b[38;5;66;03m# self.scoring the return type is only known after calling\u001b[39;00m\n\u001b[0;32m    902\u001b[0m first_test_score \u001b[38;5;241m=\u001b[39m all_out[\u001b[38;5;241m0\u001b[39m][\u001b[38;5;124m\"\u001b[39m\u001b[38;5;124mtest_scores\u001b[39m\u001b[38;5;124m\"\u001b[39m]\n",
      "File \u001b[1;32m~\\anaconda3\\lib\\site-packages\\skopt\\searchcv.py:512\u001b[0m, in \u001b[0;36mBayesSearchCV._run_search\u001b[1;34m(self, evaluate_candidates)\u001b[0m\n\u001b[0;32m    508\u001b[0m \u001b[38;5;28;01mwhile\u001b[39;00m n_iter \u001b[38;5;241m>\u001b[39m \u001b[38;5;241m0\u001b[39m:\n\u001b[0;32m    509\u001b[0m     \u001b[38;5;66;03m# when n_iter < n_points points left for evaluation\u001b[39;00m\n\u001b[0;32m    510\u001b[0m     n_points_adjusted \u001b[38;5;241m=\u001b[39m \u001b[38;5;28mmin\u001b[39m(n_iter, n_points)\n\u001b[1;32m--> 512\u001b[0m     optim_result \u001b[38;5;241m=\u001b[39m \u001b[38;5;28;43mself\u001b[39;49m\u001b[38;5;241;43m.\u001b[39;49m\u001b[43m_step\u001b[49m\u001b[43m(\u001b[49m\n\u001b[0;32m    513\u001b[0m \u001b[43m        \u001b[49m\u001b[43msearch_space\u001b[49m\u001b[43m,\u001b[49m\u001b[43m \u001b[49m\u001b[43moptimizer\u001b[49m\u001b[43m,\u001b[49m\n\u001b[0;32m    514\u001b[0m \u001b[43m        \u001b[49m\u001b[43mevaluate_candidates\u001b[49m\u001b[43m,\u001b[49m\u001b[43m \u001b[49m\u001b[43mn_points\u001b[49m\u001b[38;5;241;43m=\u001b[39;49m\u001b[43mn_points_adjusted\u001b[49m\n\u001b[0;32m    515\u001b[0m \u001b[43m    \u001b[49m\u001b[43m)\u001b[49m\n\u001b[0;32m    516\u001b[0m     n_iter \u001b[38;5;241m-\u001b[39m\u001b[38;5;241m=\u001b[39m n_points\n\u001b[0;32m    518\u001b[0m     \u001b[38;5;28;01mif\u001b[39;00m eval_callbacks(callbacks, optim_result):\n",
      "File \u001b[1;32m~\\anaconda3\\lib\\site-packages\\skopt\\searchcv.py:400\u001b[0m, in \u001b[0;36mBayesSearchCV._step\u001b[1;34m(self, search_space, optimizer, evaluate_candidates, n_points)\u001b[0m\n\u001b[0;32m    397\u001b[0m \u001b[38;5;250m\u001b[39m\u001b[38;5;124;03m\"\"\"Generate n_jobs parameters and evaluate them in parallel.\u001b[39;00m\n\u001b[0;32m    398\u001b[0m \u001b[38;5;124;03m\"\"\"\u001b[39;00m\n\u001b[0;32m    399\u001b[0m \u001b[38;5;66;03m# get parameter values to evaluate\u001b[39;00m\n\u001b[1;32m--> 400\u001b[0m params \u001b[38;5;241m=\u001b[39m \u001b[43moptimizer\u001b[49m\u001b[38;5;241;43m.\u001b[39;49m\u001b[43mask\u001b[49m\u001b[43m(\u001b[49m\u001b[43mn_points\u001b[49m\u001b[38;5;241;43m=\u001b[39;49m\u001b[43mn_points\u001b[49m\u001b[43m)\u001b[49m\n\u001b[0;32m    402\u001b[0m \u001b[38;5;66;03m# convert parameters to python native types\u001b[39;00m\n\u001b[0;32m    403\u001b[0m params \u001b[38;5;241m=\u001b[39m [[np\u001b[38;5;241m.\u001b[39marray(v)\u001b[38;5;241m.\u001b[39mitem() \u001b[38;5;28;01mfor\u001b[39;00m v \u001b[38;5;129;01min\u001b[39;00m p] \u001b[38;5;28;01mfor\u001b[39;00m p \u001b[38;5;129;01min\u001b[39;00m params]\n",
      "File \u001b[1;32m~\\anaconda3\\lib\\site-packages\\skopt\\optimizer\\optimizer.py:395\u001b[0m, in \u001b[0;36mOptimizer.ask\u001b[1;34m(self, n_points, strategy)\u001b[0m\n\u001b[0;32m    393\u001b[0m X \u001b[38;5;241m=\u001b[39m []\n\u001b[0;32m    394\u001b[0m \u001b[38;5;28;01mfor\u001b[39;00m i \u001b[38;5;129;01min\u001b[39;00m \u001b[38;5;28mrange\u001b[39m(n_points):\n\u001b[1;32m--> 395\u001b[0m     x \u001b[38;5;241m=\u001b[39m \u001b[43mopt\u001b[49m\u001b[38;5;241;43m.\u001b[39;49m\u001b[43mask\u001b[49m\u001b[43m(\u001b[49m\u001b[43m)\u001b[49m\n\u001b[0;32m    396\u001b[0m     X\u001b[38;5;241m.\u001b[39mappend(x)\n\u001b[0;32m    398\u001b[0m     ti_available \u001b[38;5;241m=\u001b[39m \u001b[38;5;124m\"\u001b[39m\u001b[38;5;124mps\u001b[39m\u001b[38;5;124m\"\u001b[39m \u001b[38;5;129;01min\u001b[39;00m \u001b[38;5;28mself\u001b[39m\u001b[38;5;241m.\u001b[39macq_func \u001b[38;5;129;01mand\u001b[39;00m \u001b[38;5;28mlen\u001b[39m(opt\u001b[38;5;241m.\u001b[39myi) \u001b[38;5;241m>\u001b[39m \u001b[38;5;241m0\u001b[39m\n",
      "File \u001b[1;32m~\\anaconda3\\lib\\site-packages\\skopt\\optimizer\\optimizer.py:367\u001b[0m, in \u001b[0;36mOptimizer.ask\u001b[1;34m(self, n_points, strategy)\u001b[0m\n\u001b[0;32m    336\u001b[0m \u001b[38;5;250m\u001b[39m\u001b[38;5;124;03m\"\"\"Query point or multiple points at which objective should be evaluated.\u001b[39;00m\n\u001b[0;32m    337\u001b[0m \n\u001b[0;32m    338\u001b[0m \u001b[38;5;124;03mn_points : int or None, default: None\u001b[39;00m\n\u001b[1;32m   (...)\u001b[0m\n\u001b[0;32m    364\u001b[0m \n\u001b[0;32m    365\u001b[0m \u001b[38;5;124;03m\"\"\"\u001b[39;00m\n\u001b[0;32m    366\u001b[0m \u001b[38;5;28;01mif\u001b[39;00m n_points \u001b[38;5;129;01mis\u001b[39;00m \u001b[38;5;28;01mNone\u001b[39;00m:\n\u001b[1;32m--> 367\u001b[0m     \u001b[38;5;28;01mreturn\u001b[39;00m \u001b[38;5;28;43mself\u001b[39;49m\u001b[38;5;241;43m.\u001b[39;49m\u001b[43m_ask\u001b[49m\u001b[43m(\u001b[49m\u001b[43m)\u001b[49m\n\u001b[0;32m    369\u001b[0m supported_strategies \u001b[38;5;241m=\u001b[39m [\u001b[38;5;124m\"\u001b[39m\u001b[38;5;124mcl_min\u001b[39m\u001b[38;5;124m\"\u001b[39m, \u001b[38;5;124m\"\u001b[39m\u001b[38;5;124mcl_mean\u001b[39m\u001b[38;5;124m\"\u001b[39m, \u001b[38;5;124m\"\u001b[39m\u001b[38;5;124mcl_max\u001b[39m\u001b[38;5;124m\"\u001b[39m]\n\u001b[0;32m    371\u001b[0m \u001b[38;5;28;01mif\u001b[39;00m \u001b[38;5;129;01mnot\u001b[39;00m (\u001b[38;5;28misinstance\u001b[39m(n_points, \u001b[38;5;28mint\u001b[39m) \u001b[38;5;129;01mand\u001b[39;00m n_points \u001b[38;5;241m>\u001b[39m \u001b[38;5;241m0\u001b[39m):\n",
      "File \u001b[1;32m~\\anaconda3\\lib\\site-packages\\skopt\\optimizer\\optimizer.py:434\u001b[0m, in \u001b[0;36mOptimizer._ask\u001b[1;34m(self)\u001b[0m\n\u001b[0;32m    430\u001b[0m \u001b[38;5;28;01mif\u001b[39;00m \u001b[38;5;28mself\u001b[39m\u001b[38;5;241m.\u001b[39m_n_initial_points \u001b[38;5;241m>\u001b[39m \u001b[38;5;241m0\u001b[39m \u001b[38;5;129;01mor\u001b[39;00m \u001b[38;5;28mself\u001b[39m\u001b[38;5;241m.\u001b[39mbase_estimator_ \u001b[38;5;129;01mis\u001b[39;00m \u001b[38;5;28;01mNone\u001b[39;00m:\n\u001b[0;32m    431\u001b[0m     \u001b[38;5;66;03m# this will not make a copy of `self.rng` and hence keep advancing\u001b[39;00m\n\u001b[0;32m    432\u001b[0m     \u001b[38;5;66;03m# our random state.\u001b[39;00m\n\u001b[0;32m    433\u001b[0m     \u001b[38;5;28;01mif\u001b[39;00m \u001b[38;5;28mself\u001b[39m\u001b[38;5;241m.\u001b[39m_initial_samples \u001b[38;5;129;01mis\u001b[39;00m \u001b[38;5;28;01mNone\u001b[39;00m:\n\u001b[1;32m--> 434\u001b[0m         \u001b[38;5;28;01mreturn\u001b[39;00m \u001b[38;5;28;43mself\u001b[39;49m\u001b[38;5;241;43m.\u001b[39;49m\u001b[43mspace\u001b[49m\u001b[38;5;241;43m.\u001b[39;49m\u001b[43mrvs\u001b[49m\u001b[43m(\u001b[49m\u001b[43mrandom_state\u001b[49m\u001b[38;5;241;43m=\u001b[39;49m\u001b[38;5;28;43mself\u001b[39;49m\u001b[38;5;241;43m.\u001b[39;49m\u001b[43mrng\u001b[49m\u001b[43m)\u001b[49m[\u001b[38;5;241m0\u001b[39m]\n\u001b[0;32m    435\u001b[0m     \u001b[38;5;28;01melse\u001b[39;00m:\n\u001b[0;32m    436\u001b[0m         \u001b[38;5;66;03m# The samples are evaluated starting form initial_samples[0]\u001b[39;00m\n\u001b[0;32m    437\u001b[0m         \u001b[38;5;28;01mreturn\u001b[39;00m \u001b[38;5;28mself\u001b[39m\u001b[38;5;241m.\u001b[39m_initial_samples[\n\u001b[0;32m    438\u001b[0m             \u001b[38;5;28mlen\u001b[39m(\u001b[38;5;28mself\u001b[39m\u001b[38;5;241m.\u001b[39m_initial_samples) \u001b[38;5;241m-\u001b[39m \u001b[38;5;28mself\u001b[39m\u001b[38;5;241m.\u001b[39m_n_initial_points]\n",
      "File \u001b[1;32m~\\anaconda3\\lib\\site-packages\\skopt\\space\\space.py:900\u001b[0m, in \u001b[0;36mSpace.rvs\u001b[1;34m(self, n_samples, random_state)\u001b[0m\n\u001b[0;32m    897\u001b[0m columns \u001b[38;5;241m=\u001b[39m []\n\u001b[0;32m    899\u001b[0m \u001b[38;5;28;01mfor\u001b[39;00m dim \u001b[38;5;129;01min\u001b[39;00m \u001b[38;5;28mself\u001b[39m\u001b[38;5;241m.\u001b[39mdimensions:\n\u001b[1;32m--> 900\u001b[0m     columns\u001b[38;5;241m.\u001b[39mappend(\u001b[43mdim\u001b[49m\u001b[38;5;241;43m.\u001b[39;49m\u001b[43mrvs\u001b[49m\u001b[43m(\u001b[49m\u001b[43mn_samples\u001b[49m\u001b[38;5;241;43m=\u001b[39;49m\u001b[43mn_samples\u001b[49m\u001b[43m,\u001b[49m\u001b[43m \u001b[49m\u001b[43mrandom_state\u001b[49m\u001b[38;5;241;43m=\u001b[39;49m\u001b[43mrng\u001b[49m\u001b[43m)\u001b[49m)\n\u001b[0;32m    902\u001b[0m \u001b[38;5;66;03m# Transpose\u001b[39;00m\n\u001b[0;32m    903\u001b[0m \u001b[38;5;28;01mreturn\u001b[39;00m _transpose_list_array(columns)\n",
      "File \u001b[1;32m~\\anaconda3\\lib\\site-packages\\skopt\\space\\space.py:158\u001b[0m, in \u001b[0;36mDimension.rvs\u001b[1;34m(self, n_samples, random_state)\u001b[0m\n\u001b[0;32m    156\u001b[0m rng \u001b[38;5;241m=\u001b[39m check_random_state(random_state)\n\u001b[0;32m    157\u001b[0m samples \u001b[38;5;241m=\u001b[39m \u001b[38;5;28mself\u001b[39m\u001b[38;5;241m.\u001b[39m_rvs\u001b[38;5;241m.\u001b[39mrvs(size\u001b[38;5;241m=\u001b[39mn_samples, random_state\u001b[38;5;241m=\u001b[39mrng)\n\u001b[1;32m--> 158\u001b[0m \u001b[38;5;28;01mreturn\u001b[39;00m \u001b[38;5;28;43mself\u001b[39;49m\u001b[38;5;241;43m.\u001b[39;49m\u001b[43minverse_transform\u001b[49m\u001b[43m(\u001b[49m\u001b[43msamples\u001b[49m\u001b[43m)\u001b[49m\n",
      "File \u001b[1;32m~\\anaconda3\\lib\\site-packages\\skopt\\space\\space.py:528\u001b[0m, in \u001b[0;36mInteger.inverse_transform\u001b[1;34m(self, Xt)\u001b[0m\n\u001b[0;32m    523\u001b[0m \u001b[38;5;250m\u001b[39m\u001b[38;5;124;03m\"\"\"Inverse transform samples from the warped space back into the\u001b[39;00m\n\u001b[0;32m    524\u001b[0m \u001b[38;5;124;03m   original space.\u001b[39;00m\n\u001b[0;32m    525\u001b[0m \u001b[38;5;124;03m\"\"\"\u001b[39;00m\n\u001b[0;32m    526\u001b[0m \u001b[38;5;66;03m# The concatenation of all transformed dimensions makes Xt to be\u001b[39;00m\n\u001b[0;32m    527\u001b[0m \u001b[38;5;66;03m# of type float, hence the required cast back to int.\u001b[39;00m\n\u001b[1;32m--> 528\u001b[0m inv_transform \u001b[38;5;241m=\u001b[39m \u001b[38;5;28;43msuper\u001b[39;49m\u001b[43m(\u001b[49m\u001b[43mInteger\u001b[49m\u001b[43m,\u001b[49m\u001b[43m \u001b[49m\u001b[38;5;28;43mself\u001b[39;49m\u001b[43m)\u001b[49m\u001b[38;5;241;43m.\u001b[39;49m\u001b[43minverse_transform\u001b[49m\u001b[43m(\u001b[49m\u001b[43mXt\u001b[49m\u001b[43m)\u001b[49m\n\u001b[0;32m    529\u001b[0m \u001b[38;5;28;01mif\u001b[39;00m \u001b[38;5;28misinstance\u001b[39m(inv_transform, \u001b[38;5;28mlist\u001b[39m):\n\u001b[0;32m    530\u001b[0m     inv_transform \u001b[38;5;241m=\u001b[39m np\u001b[38;5;241m.\u001b[39marray(inv_transform)\n",
      "File \u001b[1;32m~\\anaconda3\\lib\\site-packages\\skopt\\space\\space.py:168\u001b[0m, in \u001b[0;36mDimension.inverse_transform\u001b[1;34m(self, Xt)\u001b[0m\n\u001b[0;32m    164\u001b[0m \u001b[38;5;28;01mdef\u001b[39;00m \u001b[38;5;21minverse_transform\u001b[39m(\u001b[38;5;28mself\u001b[39m, Xt):\n\u001b[0;32m    165\u001b[0m \u001b[38;5;250m    \u001b[39m\u001b[38;5;124;03m\"\"\"Inverse transform samples from the warped space back into the\u001b[39;00m\n\u001b[0;32m    166\u001b[0m \u001b[38;5;124;03m       original space.\u001b[39;00m\n\u001b[0;32m    167\u001b[0m \u001b[38;5;124;03m    \"\"\"\u001b[39;00m\n\u001b[1;32m--> 168\u001b[0m     \u001b[38;5;28;01mreturn\u001b[39;00m \u001b[38;5;28;43mself\u001b[39;49m\u001b[38;5;241;43m.\u001b[39;49m\u001b[43mtransformer\u001b[49m\u001b[38;5;241;43m.\u001b[39;49m\u001b[43minverse_transform\u001b[49m\u001b[43m(\u001b[49m\u001b[43mXt\u001b[49m\u001b[43m)\u001b[49m\n",
      "File \u001b[1;32m~\\anaconda3\\lib\\site-packages\\skopt\\space\\transformers.py:309\u001b[0m, in \u001b[0;36mPipeline.inverse_transform\u001b[1;34m(self, X)\u001b[0m\n\u001b[0;32m    307\u001b[0m \u001b[38;5;28;01mdef\u001b[39;00m \u001b[38;5;21minverse_transform\u001b[39m(\u001b[38;5;28mself\u001b[39m, X):\n\u001b[0;32m    308\u001b[0m     \u001b[38;5;28;01mfor\u001b[39;00m transformer \u001b[38;5;129;01min\u001b[39;00m \u001b[38;5;28mself\u001b[39m\u001b[38;5;241m.\u001b[39mtransformers[::\u001b[38;5;241m-\u001b[39m\u001b[38;5;241m1\u001b[39m]:\n\u001b[1;32m--> 309\u001b[0m         X \u001b[38;5;241m=\u001b[39m \u001b[43mtransformer\u001b[49m\u001b[38;5;241;43m.\u001b[39;49m\u001b[43minverse_transform\u001b[49m\u001b[43m(\u001b[49m\u001b[43mX\u001b[49m\u001b[43m)\u001b[49m\n\u001b[0;32m    310\u001b[0m     \u001b[38;5;28;01mreturn\u001b[39;00m X\n",
      "File \u001b[1;32m~\\anaconda3\\lib\\site-packages\\skopt\\space\\transformers.py:275\u001b[0m, in \u001b[0;36mNormalize.inverse_transform\u001b[1;34m(self, X)\u001b[0m\n\u001b[0;32m    273\u001b[0m X_orig \u001b[38;5;241m=\u001b[39m X \u001b[38;5;241m*\u001b[39m (\u001b[38;5;28mself\u001b[39m\u001b[38;5;241m.\u001b[39mhigh \u001b[38;5;241m-\u001b[39m \u001b[38;5;28mself\u001b[39m\u001b[38;5;241m.\u001b[39mlow) \u001b[38;5;241m+\u001b[39m \u001b[38;5;28mself\u001b[39m\u001b[38;5;241m.\u001b[39mlow\n\u001b[0;32m    274\u001b[0m \u001b[38;5;28;01mif\u001b[39;00m \u001b[38;5;28mself\u001b[39m\u001b[38;5;241m.\u001b[39mis_int:\n\u001b[1;32m--> 275\u001b[0m     \u001b[38;5;28;01mreturn\u001b[39;00m np\u001b[38;5;241m.\u001b[39mround(X_orig)\u001b[38;5;241m.\u001b[39mastype(\u001b[43mnp\u001b[49m\u001b[38;5;241;43m.\u001b[39;49m\u001b[43mint\u001b[49m)\n\u001b[0;32m    276\u001b[0m \u001b[38;5;28;01mreturn\u001b[39;00m X_orig\n",
      "File \u001b[1;32m~\\anaconda3\\lib\\site-packages\\numpy\\__init__.py:319\u001b[0m, in \u001b[0;36m__getattr__\u001b[1;34m(attr)\u001b[0m\n\u001b[0;32m    314\u001b[0m     warnings\u001b[38;5;241m.\u001b[39mwarn(\n\u001b[0;32m    315\u001b[0m         \u001b[38;5;124mf\u001b[39m\u001b[38;5;124m\"\u001b[39m\u001b[38;5;124mIn the future `np.\u001b[39m\u001b[38;5;132;01m{\u001b[39;00mattr\u001b[38;5;132;01m}\u001b[39;00m\u001b[38;5;124m` will be defined as the \u001b[39m\u001b[38;5;124m\"\u001b[39m\n\u001b[0;32m    316\u001b[0m         \u001b[38;5;124m\"\u001b[39m\u001b[38;5;124mcorresponding NumPy scalar.\u001b[39m\u001b[38;5;124m\"\u001b[39m, \u001b[38;5;167;01mFutureWarning\u001b[39;00m, stacklevel\u001b[38;5;241m=\u001b[39m\u001b[38;5;241m2\u001b[39m)\n\u001b[0;32m    318\u001b[0m \u001b[38;5;28;01mif\u001b[39;00m attr \u001b[38;5;129;01min\u001b[39;00m __former_attrs__:\n\u001b[1;32m--> 319\u001b[0m     \u001b[38;5;28;01mraise\u001b[39;00m \u001b[38;5;167;01mAttributeError\u001b[39;00m(__former_attrs__[attr])\n\u001b[0;32m    321\u001b[0m \u001b[38;5;28;01mif\u001b[39;00m attr \u001b[38;5;241m==\u001b[39m \u001b[38;5;124m'\u001b[39m\u001b[38;5;124mtesting\u001b[39m\u001b[38;5;124m'\u001b[39m:\n\u001b[0;32m    322\u001b[0m     \u001b[38;5;28;01mimport\u001b[39;00m \u001b[38;5;21;01mnumpy\u001b[39;00m\u001b[38;5;21;01m.\u001b[39;00m\u001b[38;5;21;01mtesting\u001b[39;00m \u001b[38;5;28;01mas\u001b[39;00m \u001b[38;5;21;01mtesting\u001b[39;00m\n",
      "\u001b[1;31mAttributeError\u001b[0m: module 'numpy' has no attribute 'int'.\n`np.int` was a deprecated alias for the builtin `int`. To avoid this error in existing code, use `int` by itself. Doing this will not modify any behavior and is safe. When replacing `np.int`, you may wish to use e.g. `np.int64` or `np.int32` to specify the precision. If you wish to review your current use, check the release note link for additional information.\nThe aliases was originally deprecated in NumPy 1.20; for more details and guidance see the original release note at:\n    https://numpy.org/devdocs/release/1.20.0-notes.html#deprecations"
     ]
    }
   ],
   "source": [
    "# Criando uma nova árvore vazia (sem o fit)\n",
    "arvore_bay = RandomForestRegressor(n_estimators = 10, random_state = 1)\n",
    "\n",
    "'''Declarando a otimização usando a arvore_bay e os parametros declarados acima, \n",
    "o valor de 50 vai ser o número de iterações e o cv=5 é a quantidade de porções que \n",
    "os dados de treino e teste serão divididos, então as iterações vão ser feitas com\n",
    "5 dividões de testes diferentes'''\n",
    "otimizacao_bayesiana = BayesSearchCV(arvore_bay, parametros, n_iter = 50, cv = 5)\n",
    "otimizacao_bayesiana.fit(X_train_wise, y_train_wise)\n",
    "\n",
    "# Obtendo a melhor profundidade\n",
    "melhor_profundidade = otimizacao_bayesiana.best_params_['max_depth']\n",
    "# Obtendo o melhor minimo de amostras para uma divisão de nó\n",
    "melhor_min_samples_split = otimizacao_bayesiana.best_params_['min_samples_split']\n",
    "\n",
    "# Treinar o modelo com os melhores hiperparâmetros obtidos com os passos anteriores\n",
    "melhor_arvore_bay = RandomForestRegressor(n_estimators = 10, max_depth = melhor_profundidade, \n",
    "                                             min_samples_split = melhor_min_samples_split, random_state = 1)\n",
    "melhor_arvore_bay.fit(X_train_wise, y_train_wise)\n",
    "\n",
    "# Fazendo predição nos dados de teste (substituindo o valor da ultima predição)\n",
    "y_pred_test = melhor_arvore_bay.predict(X_test_wise)\n",
    "# Salvando a predição de treino para usar no próximo exercício\n",
    "y_pred_train = melhor_arvore_bay.predict(X_train_wise)\n",
    "\n",
    "# Calculando o R² para os dados de teste (substituindo o valor do ultimo score)\n",
    "r2_teste = r2_score(y_test_wise, y_pred_test)\n",
    "r2_treino = r2_score(y_train_wise, y_pred_train)\n",
    "\n",
    "print(f\"Melhor profundidade: {melhor_profundidade}\")\n",
    "print(f\"Melhor min_samples_split: {melhor_min_samples_split}\")\n",
    "print(f\"R² nos dados de teste: {r2_teste:.4f}\")\n",
    "print(f\"R² nos dados de treino: {r2_treino:.4f}\")"
   ]
  },
  {
   "cell_type": "markdown",
   "metadata": {},
   "source": [
    "8. Avalie a previsão mediana do log(renda) nas bases de treinamento e teste. A previsão mediana do log(renda), por hipótese, é o mesmo que a previsão média do log(renda).\n"
   ]
  },
  {
   "cell_type": "markdown",
   "metadata": {},
   "source": [
    "#### Os valores da mediana e da média do log deram bem próximos, mas não foram os mesmos valores."
   ]
  },
  {
   "cell_type": "code",
   "execution_count": null,
   "metadata": {},
   "outputs": [],
   "source": [
    "# Adiquirindo as medianas de treino e teste\n",
    "mediana_treino_y_log = np.median(y_pred_train)\n",
    "mediana_teste_y_log = np.median(y_pred_test)\n",
    "\n",
    "print(f\"Mediana treino: {mediana_treino_y_log}\")\n",
    "print(f\"Mediana teste: {mediana_teste_y_log}\")"
   ]
  },
  {
   "cell_type": "code",
   "execution_count": null,
   "metadata": {},
   "outputs": [],
   "source": [
    "# Adiquirindo as medias de treino e teste\n",
    "media_treino_y_log = np.mean(y_pred_train)\n",
    "media_teste_y_log = np.mean(y_pred_test)\n",
    "\n",
    "print(f\"Media treino: {media_treino_y_log}\")\n",
    "print(f\"Media teste: {media_teste_y_log}\")"
   ]
  },
  {
   "cell_type": "markdown",
   "metadata": {},
   "source": [
    "9. Obtenha a previsão mediana da renda - a mediana é o exponencial do item anterior. Observe que para a média não vale o mesmo resultado.\n",
    "mediana_y\n"
   ]
  },
  {
   "cell_type": "code",
   "execution_count": null,
   "metadata": {},
   "outputs": [],
   "source": [
    "# Transformando os valores adiquiridos anteriormente para o original de Y\n",
    "mediana_treino_y_normal = np.exp(mediana_treino_y_log)\n",
    "mediana_teste_y_normal = np.exp(mediana_teste_y_log)\n",
    "\n",
    "print(f\"Mediana treino: {mediana_treino_y_normal}\")\n",
    "print(f\"Mediana teste: {mediana_teste_y_normal}\")\n",
    "\n",
    "# -----\n",
    "\n",
    "media_treino_y_normal = np.exp(media_treino_y_log)\n",
    "media_teste_y_normal = np.exp(media_teste_y_log)\n",
    "\n",
    "print(f\"Media treino: {media_treino_y_normal}\")\n",
    "print(f\"Media teste: {media_teste_y_normal}\")"
   ]
  },
  {
   "cell_type": "markdown",
   "metadata": {},
   "source": [
    "10. Divida a previsão do item 9 em 10 grupos. Calcule a média, mediana, percentil 5% e percentil 95% da renda para cada grupo. Faça um gráfico.\n",
    "Analise e comente as limitações dessa previsão, e reflita sobre o quão útil é este modelo."
   ]
  },
  {
   "cell_type": "code",
   "execution_count": null,
   "metadata": {},
   "outputs": [],
   "source": [
    "# Colocando a predição para o valor original\n",
    "y_pred_test_normal = np.exp(y_pred_test)\n",
    "y_pred_test_normal"
   ]
  },
  {
   "cell_type": "code",
   "execution_count": null,
   "metadata": {
    "scrolled": true
   },
   "outputs": [],
   "source": [
    "# Dividindo meus valores preditos em 10 grupos com o array_split do numpy\n",
    "y_pred_test_normal_grupos = np.array_split(y_pred_test_normal, 10)\n",
    "# Declarando as listas para guardar os valores\n",
    "medias = []\n",
    "medianas = []\n",
    "percentil_5 = []\n",
    "percentil_95 = []\n",
    "\n",
    "''' Nesse for vai ser percorrido todas arrays criadas anteriormente (os 10 grupos) e vai ser guardado\n",
    "esses valores em suas respectivas listas'''\n",
    "for i in range(10):\n",
    "    medias.append(np.mean(y_pred_test_normal_grupos[i]))\n",
    "    medianas.append(np.median(y_pred_test_normal_grupos[i]))\n",
    "    percentil_5.append(np.percentile(y_pred_test_normal_grupos[i], 5))\n",
    "    percentil_95.append(np.percentile(y_pred_test_normal_grupos[i], 95))\n",
    "\n",
    "print(f'VALORES DA MEDIA DE CADA GRUPO \\n{medias}\\n')\n",
    "print(f'VALORES DA MEDIANA DE CADA GRUPO \\n{medianas}\\n')\n",
    "print(f'VALORES DO PERCENTIL 5% DE CADA GRUPO \\n{percentil_5}\\n')\n",
    "print(f'VALORES DO PERCENTIL 95% DE CADA GRUPO \\n{percentil_95}')\n",
    "\n"
   ]
  },
  {
   "cell_type": "code",
   "execution_count": null,
   "metadata": {},
   "outputs": [],
   "source": [
    "''' Aqui foi declarado um dicionário, sua chave representa os grupos e os valores são \n",
    "os 5% menores valores separados pelo porcentil'''\n",
    "valores_p5 = {}\n",
    "for i in range(len(y_pred_test_normal_grupos)):\n",
    "    valores = []\n",
    "    for y_pred_valor in y_pred_test_normal_grupos[i]:\n",
    "        if y_pred_valor <= percentil_5[i]:\n",
    "            valores.append(y_pred_valor)\n",
    "    valores_p5[i] = valores\n",
    "\n",
    "'''Percorrendo o dicionário para ter uma noção da quantidade dos valores abaixo de 5%\n",
    "e verificando se está homogênio em seus resultados'''\n",
    "for i in range(len(valores_p5)):\n",
    "    print(f\"Quantidade de valores abaixo de 5% no {i}º grupo: {len(valores_p5[i])}\")"
   ]
  },
  {
   "cell_type": "code",
   "execution_count": null,
   "metadata": {},
   "outputs": [],
   "source": [
    "''' Aqui foi declarado um dicionário, sua chave representa os grupos e os valores são \n",
    "os 5% menores valores separados pelo porcentil'''\n",
    "valores_p95 = {}\n",
    "for i in range(len(y_pred_test_normal_grupos)):\n",
    "    valores = []\n",
    "    for y_pred_valor in y_pred_test_normal_grupos[i]:\n",
    "        if y_pred_valor >= percentil_95[i]:\n",
    "            valores.append(y_pred_valor)\n",
    "    valores_p95[i] = valores\n",
    "\n",
    "'''Percorrendo o dicionário para ter uma noção da quantidade dos valores acima de 95%\n",
    "e verificando se está homogênio em seus resultados'''\n",
    "for i in range(len(valores_p95)):\n",
    "    print(f\"Quantidade de valores acima de 95% no {i}º grupo: {len(valores_p95[i])}\")\n",
    "    \n"
   ]
  },
  {
   "cell_type": "markdown",
   "metadata": {},
   "source": [
    "#### Abaixo foi feito um gráfico para representar os valores em LOG"
   ]
  },
  {
   "cell_type": "code",
   "execution_count": null,
   "metadata": {},
   "outputs": [],
   "source": [
    "# Criar uma figura e um eixo\n",
    "fig, ax = plt.subplots()\n",
    "\n",
    "# Gráfico de regressão da reta com cor vermelha\n",
    "sns.regplot(x=y_test_wise, y=y_pred_test, scatter=False, color='red', label='Regressão', ax=ax)\n",
    "\n",
    "# Gráfico de dispersão dos dados de teste com cor azul\n",
    "sns.scatterplot(x=y_test_wise, y=y_pred_test, color='blue', label='Dados de Teste', ax=ax)\n",
    "\n",
    "# Personalizando o gráfico\n",
    "plt.xlabel('Valores Reais (y_test_wise)')\n",
    "plt.ylabel('Valores Previstos (y_pred_test_normal)')\n",
    "plt.title('Gráfico de Regressão dos Dados de Teste (Escala LOG)')\n",
    "plt.legend()\n",
    "\n",
    "# Exibir o gráfico\n",
    "plt.show()"
   ]
  },
  {
   "cell_type": "markdown",
   "metadata": {},
   "source": [
    "#### Já nesse caso ficou com os valores normais, voltando o y_test_wise para o valor original"
   ]
  },
  {
   "cell_type": "code",
   "execution_count": null,
   "metadata": {},
   "outputs": [],
   "source": [
    "# Criar uma figura e um eixo\n",
    "fig, ax = plt.subplots()\n",
    "\n",
    "# Gráfico de regressão da reta com cor vermelha\n",
    "sns.regplot(x=np.exp(y_test_wise), y=y_pred_test_normal, scatter=False, color='red', label='Regressão', ax=ax)\n",
    "\n",
    "# Gráfico de dispersão dos dados de teste com cor azul\n",
    "sns.scatterplot(x=np.exp(y_test_wise), y=y_pred_test_normal, color='blue', label='Dados de Teste', ax=ax)\n",
    "\n",
    "# Personalizando o gráfico\n",
    "plt.xlabel('Valores Reais (y_test_wise)')\n",
    "plt.ylabel('Valores Previstos (y_pred_test_normal)')\n",
    "plt.title('Gráfico de Regressão dos Dados de Teste (Escala Normal)')\n",
    "plt.legend()\n",
    "\n",
    "# Exibir o gráfico\n",
    "plt.show()"
   ]
  },
  {
   "cell_type": "markdown",
   "metadata": {},
   "source": [
    "#### A divisão dos valores em grupos pode ser bem útil para verificar a quantidade de valores que podem estar como outliers ou muito acima ou muito abaixo da média e definir uma medida a ser aplicada no modelo para tratar os outliers, também ajuda a ver se os valores estão homogênios ou não, como na divisão dos grupos a quantidade de todos foi quase que igual da para perceber que os valores tanto abaixo de 5% quanto acima de 95% estão bem balanceados nos 10 grupos."
   ]
  },
  {
   "cell_type": "code",
   "execution_count": null,
   "metadata": {},
   "outputs": [],
   "source": []
  }
 ],
 "metadata": {
  "kernelspec": {
   "display_name": "Python 3 (ipykernel)",
   "language": "python",
   "name": "python3"
  },
  "language_info": {
   "codemirror_mode": {
    "name": "ipython",
    "version": 3
   },
   "file_extension": ".py",
   "mimetype": "text/x-python",
   "name": "python",
   "nbconvert_exporter": "python",
   "pygments_lexer": "ipython3",
   "version": "3.11.4"
  }
 },
 "nbformat": 4,
 "nbformat_minor": 4
}
