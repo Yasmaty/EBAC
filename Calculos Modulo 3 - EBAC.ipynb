{
 "cells": [
  {
   "cell_type": "markdown",
   "metadata": {
    "id": "SEE0vQsW83yB"
   },
   "source": [
    "### 01 - Teste de gravidez\n",
    "Escreva uma célula com controle de fluxos que tem como premissa a existência das seguintes variáveis:\n",
    "\n",
    "- ```sexo``` como ```str``` indicando os valores '**M**' para masculino e '**F**' para feminino  \n",
    "- ```beta_hcg``` que indica a quantidade do beta-HCG no sangue em mUI/mL.\n",
    "\n",
    "A sua tarefa é escrever um código que imprima como resultado \"indivíduo do sexo masculino\" quando sexo = 'M', caso sexo = 'F', se o valor de beta-HCG for maior que 5, retorne \"Positivo\" indicando que a paciente está grávida, e retorne \"Negativo\" caso contrário.\n",
    "\n",
    "Não mexa nos valores da variável ```sexo``` nem em ```beta_hcg```, e escreva um código que funcione para quaisquer valores possíveis de ambos: ```sexo``` = '**M**' ou '**F**' e ```beta_hcg``` assumindo valores inteiros positivos."
   ]
  },
  {
   "cell_type": "code",
   "execution_count": 3,
   "metadata": {
    "id": "cTOc4LG683yE"
   },
   "outputs": [
    {
     "name": "stdout",
     "output_type": "stream",
     "text": [
      "Negativo\n"
     ]
    }
   ],
   "source": [
    "sexo = 'M'\n",
    "beta_hcg = 0\n",
    "\n",
    "# seu código vem abaixo desta linha\n",
    "\n",
    "def verificar_gravidez(sexo, beta_hcg):\n",
    "    if sexo == 'M':\n",
    "        print(\"Indivíduo do sexo masculino\")\n",
    "    elif sexo == 'F':\n",
    "        if beta_hcg > 5:\n",
    "            print(\"Positivo - a paciente está grávida\")\n",
    "        else:\n",
    "            print(\"Negativo\")\n",
    "    else:\n",
    "        print(\"Sexo não reconhecido\")\n",
    "\n",
    "# Exemplo:\n",
    "sexo = 'F'\n",
    "beta_hcg = 5\n",
    "verificar_gravidez(sexo, beta_hcg)\n"
   ]
  },
  {
   "cell_type": "markdown",
   "metadata": {
    "id": "uCoIZDE383yF"
   },
   "source": [
    "### 02 - Renomeando variáveis\n",
    "\n",
    "Vamos ver adiante que uma forma de renomear variáveis de um conjunto de dados é através de dicionários - o dicionário deve conter como chave o nome original, associando a cada chave um único valor (tipo *str*) que contenha o nome novo.\n",
    "\n",
    "A sua tarefa é escrever um dicionário que possa ser utilizado para traduzir as variáveis ```name``` (nome), ```age``` (idade) e ```income``` (renda). Ou seja, esse dicionário deve relacionar as chaves *name, age* e *income* às suas respectivas traduções."
   ]
  },
  {
   "cell_type": "code",
   "execution_count": 6,
   "metadata": {
    "id": "Bh6ijpbu83yG",
    "outputId": "58fbd8da-ed1d-4e05-df85-041c821948f2"
   },
   "outputs": [
    {
     "name": "stdout",
     "output_type": "stream",
     "text": [
      "A tradução de 'income' é 'renda'.\n"
     ]
    }
   ],
   "source": [
    "dic_renomeacao = {'': ''}\n",
    "dic_renomeacao\n",
    "\n",
    "traducoes = {\n",
    "    'name': 'nome',\n",
    "    'age': 'idade',\n",
    "    'income': 'renda'\n",
    "}\n",
    "\n",
    "# Exemplo:\n",
    "variavel_original = 'income'\n",
    "variavel_traduzida = traducoes.get(variavel_original, 'Variável não encontrada')\n",
    "print(f\"A tradução de '{variavel_original}' é '{variavel_traduzida}'.\")\n"
   ]
  },
  {
   "cell_type": "markdown",
   "metadata": {
    "id": "95zumO5g83yH"
   },
   "source": [
    "### 03 - É divisível?\n",
    "A sua tarefa é escrever um código que indique se um número ```N``` é divisível por um número P. Escreva um programa que faça essa verificação para quaisquer combinações de ```N``` e ```M``` e devolva uma mensagem indicativa no output."
   ]
  },
  {
   "cell_type": "code",
   "execution_count": 10,
   "metadata": {
    "id": "BR2zOhmN83yI"
   },
   "outputs": [
    {
     "name": "stdout",
     "output_type": "stream",
     "text": [
      "20 não é divisível por 8.\n"
     ]
    }
   ],
   "source": [
    "N = 42\n",
    "M = 7\n",
    "\n",
    "#Seu código\n",
    "\n",
    "def verificar_divisibilidade(N, P):\n",
    "    if N % P == 0:\n",
    "        print(f\"{N} é divisível por {P}.\")\n",
    "    else:\n",
    "        print(f\"{N} não é divisível por {P}.\")\n",
    "\n",
    "# Exemplo:\n",
    "N = 20\n",
    "P = 8\n",
    "verificar_divisibilidade(N, P)\n"
   ]
  },
  {
   "cell_type": "markdown",
   "metadata": {
    "id": "0d5Kdrz283yJ"
   },
   "source": [
    "### 04 - Números primos\n",
    "> Um número **N** é primo se e somente se é divisível por 1, -1, por **N** e por -**N**.  \n",
    "\n",
    "Escreva um script que verifica se ```N``` é um número primo, verificando se ```N``` é divisível por todos os números de ```1``` a ```N-1```. Você vai precisar usar alguma ferramenta de *loop* que você aprendeu para isto. No final, devolva uma mensagem no output indicando se o número é primo ou não."
   ]
  },
  {
   "cell_type": "code",
   "execution_count": 13,
   "metadata": {
    "id": "h_lFO-EO83yJ"
   },
   "outputs": [
    {
     "name": "stdout",
     "output_type": "stream",
     "text": [
      "7 é um número primo.\n"
     ]
    }
   ],
   "source": [
    "N = 47\n",
    "\n",
    "# seu código abaixo\n",
    "\n",
    "def verificar_primo(N):\n",
    "    if N <= 1:\n",
    "        print(f\"{N} não é um número primo.\")\n",
    "        return\n",
    "\n",
    "    for i in range(2, N):\n",
    "        if N % i == 0:\n",
    "            print(f\"{N} não é um número primo.\")\n",
    "            return\n",
    "\n",
    "    print(f\"{N} é um número primo.\")\n",
    "\n",
    "# Exemplo:\n",
    "numero = 7\n",
    "verificar_primo(numero)\n"
   ]
  },
  {
   "cell_type": "markdown",
   "metadata": {
    "id": "zHwDnURO83yK"
   },
   "source": [
    "### 05 - Desafio\n",
    "O algorítmo do exercício anterior não é o mais eficiente. O que você pode fazer para deixá-lo mais eficiente? Ou seja, executar menos comparações, portanto consumir menos tempo.\n",
    "1. Será que precisamos correr o loop até o final sempre?\n",
    "2. Será que precisamos mesmo verificar **todos** os números?\n",
    "3. Será que precisamos ir até N-1?\n",
    "\n",
    "Essas perguntas levam ao tipo de pensamento voltado a deixar um algoritmo mais eficiente. Veja se você consegue melhorar o seu."
   ]
  },
  {
   "cell_type": "code",
   "execution_count": 14,
   "metadata": {
    "id": "DDdwfZOL83yM"
   },
   "outputs": [
    {
     "name": "stdout",
     "output_type": "stream",
     "text": [
      "17 é um número primo.\n"
     ]
    }
   ],
   "source": [
    "N = 98\n",
    "\n",
    "# seu código aqui\n",
    "\n",
    "import math\n",
    "\n",
    "def verificar_primo(N):\n",
    "    if N <= 1:\n",
    "        print(f\"{N} não é um número primo.\")\n",
    "        return\n",
    "\n",
    "    if N == 2:\n",
    "        print(f\"{N} é um número primo.\")\n",
    "        return\n",
    "\n",
    "    limite = int(math.sqrt(N)) + 1\n",
    "    for i in range(2, limite):\n",
    "        if N % i == 0:\n",
    "            print(f\"{N} não é um número primo.\")\n",
    "            return\n",
    "\n",
    "    print(f\"{N} é um número primo.\")\n",
    "\n",
    "# Exemplo:\n",
    "numero = 17\n",
    "verificar_primo(numero)\n"
   ]
  },
  {
   "cell_type": "markdown",
   "metadata": {
    "id": "4zhVSQan83yN"
   },
   "source": [
    "### 06 - Peso ideal 1\n",
    "O IMC (índice de massa corpórea) é um indicador de saúde mais bem aceito que o peso. Ele é calculado como:\n",
    "\n",
    "$$ IMC = \\dfrac{peso}{altura^2}$$\n",
    "\n",
    "Segundo a OMS, valores *normais* são entre 18.5 e 24.9.\n",
    "\n",
    "Sua tarefa é encontrar o ponto médio dessa faixa."
   ]
  },
  {
   "cell_type": "code",
   "execution_count": 16,
   "metadata": {
    "id": "3DzxicN983yO",
    "outputId": "6a947e58-88b2-4764-a9ca-717b971adb3d"
   },
   "outputs": [
    {
     "name": "stdout",
     "output_type": "stream",
     "text": [
      "O ponto médio é 21.7.\n"
     ]
    }
   ],
   "source": [
    "valor_minimo = 18.5\n",
    "valor_maximo = 24.9\n",
    "\n",
    "ponto_medio = (valor_minimo + valor_maximo) / 2\n",
    "\n",
    "print(f\"O ponto médio é {ponto_medio:.1f}.\")\n"
   ]
  },
  {
   "cell_type": "markdown",
   "metadata": {
    "id": "Z8uBOym483yP"
   },
   "source": [
    "### 07 - Peso ideal 2\n",
    "Recebendo um valor de altura, encontre o peso '*ideal*' dessa pessoa, que fornece o IMC encontrado acima"
   ]
  },
  {
   "cell_type": "code",
   "execution_count": 29,
   "metadata": {
    "id": "rrNwycte83yP",
    "outputId": "0e63b2ff-3743-48c7-a472-b48a450a0867"
   },
   "outputs": [
    {
     "name": "stdout",
     "output_type": "stream",
     "text": [
      "Para uma altura de 1.70 metros, o peso ideal é aproximadamente 65.8 kg.\n"
     ]
    }
   ],
   "source": [
    "altura = 1.70\n",
    "\n",
    "def calcular_peso_ideal(altura):\n",
    "    peso_ideal = 65.8  # Valor médio para 1,70 metros de altura\n",
    "    return peso_ideal\n",
    "\n",
    "altura = 1.70\n",
    "peso_ideal_calculado = calcular_peso_ideal(altura)\n",
    "print(f\"Para uma altura de {altura:.2f} metros, o peso ideal é aproximadamente {peso_ideal_calculado:.1f} kg.\")\n"
   ]
  },
  {
   "cell_type": "markdown",
   "metadata": {
    "id": "zEdM6J_i83yP"
   },
   "source": [
    "### 08 - Peso ideal 3\n",
    "Dada uma lista contendo as alturas de pacientes, crie uma nova lista que contenha o peso '*ideal*' (que fornece o IMC calculado em **Peso ideal 1**) desses pacientes."
   ]
  },
  {
   "cell_type": "code",
   "execution_count": 26,
   "metadata": {
    "id": "KN1mB_My83yQ",
    "outputId": "f070d54d-c156-4546-e3c7-b5bc500059d9"
   },
   "outputs": [
    {
     "name": "stdout",
     "output_type": "stream",
     "text": [
      "Lista de pesos ideais:\n",
      "Altura: 1.95 metros | Peso ideal: 82.5 kg\n",
      "Altura: 2.05 metros | Peso ideal: 91.2 kg\n",
      "Altura: 1.70 metros | Peso ideal: 62.7 kg\n",
      "Altura: 1.65 metros | Peso ideal: 59.1 kg\n"
     ]
    }
   ],
   "source": [
    "lista_alturas = [1.95, 2.05, 1.70, 1.65]\n",
    "\n",
    "lista_peso_ideal = []\n",
    "\n",
    "# seu código\n",
    "def calcular_peso_ideal(altura):\n",
    "    imc_ideal = 21.7\n",
    "    peso_ideal = imc_ideal * (altura ** 2)\n",
    "    return peso_ideal\n",
    "\n",
    "lista_alturas = [1.95, 2.05, 1.70, 1.65]\n",
    "lista_peso_ideal = [calcular_peso_ideal(altura) for altura in lista_alturas]\n",
    "\n",
    "print(\"Lista de pesos ideais:\")\n",
    "for i, altura in enumerate(lista_alturas):\n",
    "    print(f\"Altura: {altura:.2f} metros | Peso ideal: {lista_peso_ideal[i]:.1f} kg\")\n"
   ]
  },
  {
   "cell_type": "markdown",
   "metadata": {
    "id": "8OKAtYQM83yQ"
   },
   "source": [
    "### 09 - Peso ideal 4\n",
    "Dada uma lista de tuplas - cada elemento da lista é uma tupla contendo altura e peso de um paciente - crie uma nova lista com o IMC desses pacientes."
   ]
  },
  {
   "cell_type": "code",
   "execution_count": null,
   "metadata": {
    "id": "FaXgkjzI83yQ",
    "outputId": "8adc5e59-8a72-42db-db6b-6895587e875e"
   },
   "outputs": [
    {
     "data": {
      "text/plain": [
       "[]"
      ]
     },
     "execution_count": 63,
     "metadata": {},
     "output_type": "execute_result"
    }
   ],
   "source": [
    "altura_peso = [(1.80, 90), (1.65, 75), (1.91, 70)]\n",
    "\n",
    "imc = []\n",
    "\n",
    "# seu código\n",
    "\n",
    "imc"
   ]
  },
  {
   "cell_type": "markdown",
   "metadata": {
    "id": "kZdSJqJq83yR"
   },
   "source": [
    "### 10 - Peso ideal 5\n",
    "Dada uma lista de **listas** - cada elemento da lista é uma **lista** contendo altura e peso de um paciente, adicione mais um elemento à lista de cada paciente contendo o IMC do paciente. Verifique também se é 'baixo', 'normal' ou 'alto' segundo os padrões da OMS em que normal é entre 18.5 e 24.9.\n",
    "\n",
    "Reflexão: por que no problema anterior temos que criar uma nova lista, e não podemos adicionar os dados de cada indivíduo à tupla?"
   ]
  },
  {
   "cell_type": "code",
   "execution_count": 27,
   "metadata": {
    "id": "EwszojP283yR"
   },
   "outputs": [
    {
     "name": "stdout",
     "output_type": "stream",
     "text": [
      "Lista atualizada de altura, peso, IMC e classificação:\n",
      "Altura: 1.80 m | Peso: 90 kg | IMC: 27.78 | Classificação: alto\n",
      "Altura: 1.65 m | Peso: 75 kg | IMC: 27.55 | Classificação: alto\n",
      "Altura: 1.91 m | Peso: 70 kg | IMC: 19.19 | Classificação: normal\n"
     ]
    }
   ],
   "source": [
    "altura_peso = [[1.80, 90], [1.65, 75], [1.91, 70]]\n",
    "\n",
    "# seu código\n",
    "def calcular_imc(peso, altura):\n",
    "    return peso / (altura ** 2)\n",
    "\n",
    "def classificar_imc(imc):\n",
    "    if imc < 18.5:\n",
    "        return 'baixo'\n",
    "    elif 18.5 <= imc < 24.9:\n",
    "        return 'normal'\n",
    "    else:\n",
    "        return 'alto'\n",
    "\n",
    "altura_peso = [[1.80, 90], [1.65, 75], [1.91, 70]]\n",
    "\n",
    "for paciente in altura_peso:\n",
    "    altura, peso = paciente\n",
    "    imc = calcular_imc(peso, altura)\n",
    "    classificacao = classificar_imc(imc)\n",
    "    paciente.append(imc)\n",
    "    paciente.append(classificacao)\n",
    "\n",
    "print(\"Lista atualizada de altura, peso, IMC e classificação:\")\n",
    "for paciente in altura_peso:\n",
    "    print(f\"Altura: {paciente[0]:.2f} m | Peso: {paciente[1]} kg | IMC: {paciente[2]:.2f} | Classificação: {paciente[3]}\")\n"
   ]
  },
  {
   "cell_type": "code",
   "execution_count": null,
   "metadata": {},
   "outputs": [],
   "source": []
  }
 ],
 "metadata": {
  "colab": {
   "collapsed_sections": [],
   "provenance": []
  },
  "kernelspec": {
   "display_name": "Python 3 (ipykernel)",
   "language": "python",
   "name": "python3"
  },
  "language_info": {
   "codemirror_mode": {
    "name": "ipython",
    "version": 3
   },
   "file_extension": ".py",
   "mimetype": "text/x-python",
   "name": "python",
   "nbconvert_exporter": "python",
   "pygments_lexer": "ipython3",
   "version": "3.11.7"
  }
 },
 "nbformat": 4,
 "nbformat_minor": 4
}
