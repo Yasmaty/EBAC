{
 "cells": [
  {
   "cell_type": "markdown",
   "metadata": {},
   "source": [
    "## Árvores de regressão - exercícios 02\n",
    "\n",
    "Este exercício será uma continuação do anterior, mesma base, mesmas variáveis - vamos tentar buscar a 'melhor árvore'.\n",
    "\n",
    "A descrição das variáveis está abaixo:"
   ]
  },
  {
   "cell_type": "markdown",
   "metadata": {},
   "source": [
    "| Variavel | Descrição|\n",
    "|-|-|\n",
    "|CRIM| taxa de crimes per-cápita da cidade | \n",
    "|ZN| proporção de terrenos residenciais zoneados para lotes com mais de 25.000 pés quadrados. |\n",
    "|INDUS| proporção de acres de negócios não varejistas por cidade |\n",
    "|CHAS |vale 1 se o terreno faz fronteira com o *Charles River*; 0 caso contrário |\n",
    "|NOX| Concentração de óxido nítrico (em partes por 10 milhões) |\n",
    "|RM| número médio de quartos por habitação |\n",
    "|AGE| proporção de unidades ocupadas pelo proprietário construídas antes de 1940 |\n",
    "|DIS| distâncias ponderadas até cinco centros de empregos de Boston |\n",
    "|RAD| índice de acessibilidade a rodovias radiais |\n",
    "|TAX| taxa de imposto sobre a propriedade de valor total por \\\\$10,000 |\n",
    "|PTRATIO| razão pupilo-professor da cidade |\n",
    "|B| $ 1000 (Bk - 0,63) ^ 2 $ onde Bk é a proporção de negros por cidade |\n",
    "|LSTAT| \\%status inferior da população |\n",
    "|MEDV| (variável resposta) Valor mediano das casas ocupadas pelo proprietário em US $ 1.000|"
   ]
  },
  {
   "cell_type": "code",
   "execution_count": 35,
   "metadata": {},
   "outputs": [],
   "source": [
    "import pandas as pd\n",
    "import seaborn as sns\n",
    "import matplotlib.pyplot as plt\n",
    "import graphviz\n",
    "\n",
    "from sklearn import datasets\n",
    "from sklearn.tree import DecisionTreeRegressor\n",
    "from sklearn import tree\n",
    "from sklearn.model_selection import train_test_split\n",
    "from sklearn.metrics import mean_squared_error"
   ]
  },
  {
   "cell_type": "code",
   "execution_count": 4,
   "metadata": {
    "scrolled": true
   },
   "outputs": [
    {
     "data": {
      "text/html": [
       "<div>\n",
       "<style scoped>\n",
       "    .dataframe tbody tr th:only-of-type {\n",
       "        vertical-align: middle;\n",
       "    }\n",
       "\n",
       "    .dataframe tbody tr th {\n",
       "        vertical-align: top;\n",
       "    }\n",
       "\n",
       "    .dataframe thead th {\n",
       "        text-align: right;\n",
       "    }\n",
       "</style>\n",
       "<table border=\"1\" class=\"dataframe\">\n",
       "  <thead>\n",
       "    <tr style=\"text-align: right;\">\n",
       "      <th></th>\n",
       "      <th>crim</th>\n",
       "      <th>zn</th>\n",
       "      <th>indus</th>\n",
       "      <th>chas</th>\n",
       "      <th>nox</th>\n",
       "      <th>rm</th>\n",
       "      <th>age</th>\n",
       "      <th>dis</th>\n",
       "      <th>rad</th>\n",
       "      <th>tax</th>\n",
       "      <th>ptratio</th>\n",
       "      <th>lstat</th>\n",
       "      <th>medv</th>\n",
       "    </tr>\n",
       "  </thead>\n",
       "  <tbody>\n",
       "    <tr>\n",
       "      <th>0</th>\n",
       "      <td>0.00632</td>\n",
       "      <td>18.0</td>\n",
       "      <td>2.31</td>\n",
       "      <td>0</td>\n",
       "      <td>0.538</td>\n",
       "      <td>6.575</td>\n",
       "      <td>65.2</td>\n",
       "      <td>4.0900</td>\n",
       "      <td>1</td>\n",
       "      <td>296</td>\n",
       "      <td>15.3</td>\n",
       "      <td>4.98</td>\n",
       "      <td>24.0</td>\n",
       "    </tr>\n",
       "    <tr>\n",
       "      <th>1</th>\n",
       "      <td>0.02731</td>\n",
       "      <td>0.0</td>\n",
       "      <td>7.07</td>\n",
       "      <td>0</td>\n",
       "      <td>0.469</td>\n",
       "      <td>6.421</td>\n",
       "      <td>78.9</td>\n",
       "      <td>4.9671</td>\n",
       "      <td>2</td>\n",
       "      <td>242</td>\n",
       "      <td>17.8</td>\n",
       "      <td>9.14</td>\n",
       "      <td>21.6</td>\n",
       "    </tr>\n",
       "  </tbody>\n",
       "</table>\n",
       "</div>"
      ],
      "text/plain": [
       "      crim    zn  indus  chas    nox     rm   age     dis  rad  tax  ptratio   \n",
       "0  0.00632  18.0   2.31     0  0.538  6.575  65.2  4.0900    1  296     15.3  \\\n",
       "1  0.02731   0.0   7.07     0  0.469  6.421  78.9  4.9671    2  242     17.8   \n",
       "\n",
       "   lstat  medv  \n",
       "0   4.98  24.0  \n",
       "1   9.14  21.6  "
      ]
     },
     "execution_count": 4,
     "metadata": {},
     "output_type": "execute_result"
    }
   ],
   "source": [
    "#Fazendo a leitura da base baixada, já que foi desabilitada do sklearn por motivos de racismo\n",
    "df = pd.read_csv('BostonHousing.csv')\n",
    "df = df.drop('b', axis = 1) # Removendo colunas de não interesse (devido ao racismo)\n",
    "df.head(2)"
   ]
  },
  {
   "cell_type": "markdown",
   "metadata": {},
   "source": [
    "### 1. Execute os passos do exercício anterior, até que você tenha uma árvore de regressão predizendo o valor do imóvel na base de treinamento."
   ]
  },
  {
   "cell_type": "code",
   "execution_count": 7,
   "metadata": {},
   "outputs": [
    {
     "data": {
      "text/html": [
       "<div>\n",
       "<style scoped>\n",
       "    .dataframe tbody tr th:only-of-type {\n",
       "        vertical-align: middle;\n",
       "    }\n",
       "\n",
       "    .dataframe tbody tr th {\n",
       "        vertical-align: top;\n",
       "    }\n",
       "\n",
       "    .dataframe thead th {\n",
       "        text-align: right;\n",
       "    }\n",
       "</style>\n",
       "<table border=\"1\" class=\"dataframe\">\n",
       "  <thead>\n",
       "    <tr style=\"text-align: right;\">\n",
       "      <th></th>\n",
       "      <th>crim</th>\n",
       "      <th>zn</th>\n",
       "      <th>indus</th>\n",
       "      <th>chas</th>\n",
       "      <th>nox</th>\n",
       "      <th>rm</th>\n",
       "      <th>age</th>\n",
       "      <th>dis</th>\n",
       "      <th>rad</th>\n",
       "      <th>tax</th>\n",
       "      <th>ptratio</th>\n",
       "      <th>lstat</th>\n",
       "    </tr>\n",
       "  </thead>\n",
       "  <tbody>\n",
       "    <tr>\n",
       "      <th>0</th>\n",
       "      <td>0.00632</td>\n",
       "      <td>18.0</td>\n",
       "      <td>2.31</td>\n",
       "      <td>0</td>\n",
       "      <td>0.538</td>\n",
       "      <td>6.575</td>\n",
       "      <td>65.2</td>\n",
       "      <td>4.09</td>\n",
       "      <td>1</td>\n",
       "      <td>296</td>\n",
       "      <td>15.3</td>\n",
       "      <td>4.98</td>\n",
       "    </tr>\n",
       "  </tbody>\n",
       "</table>\n",
       "</div>"
      ],
      "text/plain": [
       "      crim    zn  indus  chas    nox     rm   age   dis  rad  tax  ptratio   \n",
       "0  0.00632  18.0   2.31     0  0.538  6.575  65.2  4.09    1  296     15.3  \\\n",
       "\n",
       "   lstat  \n",
       "0   4.98  "
      ]
     },
     "execution_count": 7,
     "metadata": {},
     "output_type": "execute_result"
    }
   ],
   "source": [
    "# Removendo a coluna target para deixar o x apenas com as variáveis explicativas\n",
    "x = df.drop('medv', axis=1)\n",
    "x.head(1)"
   ]
  },
  {
   "cell_type": "code",
   "execution_count": 8,
   "metadata": {},
   "outputs": [
    {
     "data": {
      "text/plain": [
       "0    24.0\n",
       "1    21.6\n",
       "2    34.7\n",
       "Name: medv, dtype: float64"
      ]
     },
     "execution_count": 8,
     "metadata": {},
     "output_type": "execute_result"
    }
   ],
   "source": [
    "# Copiando a coluna target para guardar apenas os resultados na variável y\n",
    "y = df['medv']\n",
    "y.head(3)"
   ]
  },
  {
   "cell_type": "code",
   "execution_count": 9,
   "metadata": {},
   "outputs": [],
   "source": [
    "# Dividindo a proporção de dados para treino e teste, o train_test_split já pega na proporção de 75/25\n",
    "x_train, x_test, y_train, y_test = train_test_split(x, y)"
   ]
  },
  {
   "cell_type": "code",
   "execution_count": 10,
   "metadata": {},
   "outputs": [
    {
     "data": {
      "text/html": [
       "<style>#sk-container-id-1 {color: black;background-color: white;}#sk-container-id-1 pre{padding: 0;}#sk-container-id-1 div.sk-toggleable {background-color: white;}#sk-container-id-1 label.sk-toggleable__label {cursor: pointer;display: block;width: 100%;margin-bottom: 0;padding: 0.3em;box-sizing: border-box;text-align: center;}#sk-container-id-1 label.sk-toggleable__label-arrow:before {content: \"▸\";float: left;margin-right: 0.25em;color: #696969;}#sk-container-id-1 label.sk-toggleable__label-arrow:hover:before {color: black;}#sk-container-id-1 div.sk-estimator:hover label.sk-toggleable__label-arrow:before {color: black;}#sk-container-id-1 div.sk-toggleable__content {max-height: 0;max-width: 0;overflow: hidden;text-align: left;background-color: #f0f8ff;}#sk-container-id-1 div.sk-toggleable__content pre {margin: 0.2em;color: black;border-radius: 0.25em;background-color: #f0f8ff;}#sk-container-id-1 input.sk-toggleable__control:checked~div.sk-toggleable__content {max-height: 200px;max-width: 100%;overflow: auto;}#sk-container-id-1 input.sk-toggleable__control:checked~label.sk-toggleable__label-arrow:before {content: \"▾\";}#sk-container-id-1 div.sk-estimator input.sk-toggleable__control:checked~label.sk-toggleable__label {background-color: #d4ebff;}#sk-container-id-1 div.sk-label input.sk-toggleable__control:checked~label.sk-toggleable__label {background-color: #d4ebff;}#sk-container-id-1 input.sk-hidden--visually {border: 0;clip: rect(1px 1px 1px 1px);clip: rect(1px, 1px, 1px, 1px);height: 1px;margin: -1px;overflow: hidden;padding: 0;position: absolute;width: 1px;}#sk-container-id-1 div.sk-estimator {font-family: monospace;background-color: #f0f8ff;border: 1px dotted black;border-radius: 0.25em;box-sizing: border-box;margin-bottom: 0.5em;}#sk-container-id-1 div.sk-estimator:hover {background-color: #d4ebff;}#sk-container-id-1 div.sk-parallel-item::after {content: \"\";width: 100%;border-bottom: 1px solid gray;flex-grow: 1;}#sk-container-id-1 div.sk-label:hover label.sk-toggleable__label {background-color: #d4ebff;}#sk-container-id-1 div.sk-serial::before {content: \"\";position: absolute;border-left: 1px solid gray;box-sizing: border-box;top: 0;bottom: 0;left: 50%;z-index: 0;}#sk-container-id-1 div.sk-serial {display: flex;flex-direction: column;align-items: center;background-color: white;padding-right: 0.2em;padding-left: 0.2em;position: relative;}#sk-container-id-1 div.sk-item {position: relative;z-index: 1;}#sk-container-id-1 div.sk-parallel {display: flex;align-items: stretch;justify-content: center;background-color: white;position: relative;}#sk-container-id-1 div.sk-item::before, #sk-container-id-1 div.sk-parallel-item::before {content: \"\";position: absolute;border-left: 1px solid gray;box-sizing: border-box;top: 0;bottom: 0;left: 50%;z-index: -1;}#sk-container-id-1 div.sk-parallel-item {display: flex;flex-direction: column;z-index: 1;position: relative;background-color: white;}#sk-container-id-1 div.sk-parallel-item:first-child::after {align-self: flex-end;width: 50%;}#sk-container-id-1 div.sk-parallel-item:last-child::after {align-self: flex-start;width: 50%;}#sk-container-id-1 div.sk-parallel-item:only-child::after {width: 0;}#sk-container-id-1 div.sk-dashed-wrapped {border: 1px dashed gray;margin: 0 0.4em 0.5em 0.4em;box-sizing: border-box;padding-bottom: 0.4em;background-color: white;}#sk-container-id-1 div.sk-label label {font-family: monospace;font-weight: bold;display: inline-block;line-height: 1.2em;}#sk-container-id-1 div.sk-label-container {text-align: center;}#sk-container-id-1 div.sk-container {/* jupyter's `normalize.less` sets `[hidden] { display: none; }` but bootstrap.min.css set `[hidden] { display: none !important; }` so we also need the `!important` here to be able to override the default hidden behavior on the sphinx rendered scikit-learn.org. See: https://github.com/scikit-learn/scikit-learn/issues/21755 */display: inline-block !important;position: relative;}#sk-container-id-1 div.sk-text-repr-fallback {display: none;}</style><div id=\"sk-container-id-1\" class=\"sk-top-container\"><div class=\"sk-text-repr-fallback\"><pre>DecisionTreeRegressor(max_depth=2)</pre><b>In a Jupyter environment, please rerun this cell to show the HTML representation or trust the notebook. <br />On GitHub, the HTML representation is unable to render, please try loading this page with nbviewer.org.</b></div><div class=\"sk-container\" hidden><div class=\"sk-item\"><div class=\"sk-estimator sk-toggleable\"><input class=\"sk-toggleable__control sk-hidden--visually\" id=\"sk-estimator-id-1\" type=\"checkbox\" checked><label for=\"sk-estimator-id-1\" class=\"sk-toggleable__label sk-toggleable__label-arrow\">DecisionTreeRegressor</label><div class=\"sk-toggleable__content\"><pre>DecisionTreeRegressor(max_depth=2)</pre></div></div></div></div></div>"
      ],
      "text/plain": [
       "DecisionTreeRegressor(max_depth=2)"
      ]
     },
     "execution_count": 10,
     "metadata": {},
     "output_type": "execute_result"
    }
   ],
   "source": [
    "# Declarando as duas arvores e suas respectivas profundidades através do max_depth\n",
    "tree1 = DecisionTreeRegressor(max_depth = 8)\n",
    "tree2 = DecisionTreeRegressor(max_depth = 2)\n",
    "\n",
    "# Treinando as duas arvores com os dados de treino\n",
    "tree1.fit(x_train, y_train)\n",
    "tree2.fit(x_train, y_train)"
   ]
  },
  {
   "cell_type": "markdown",
   "metadata": {},
   "source": [
    "### 2.  Calcule o caminho indicado pelos CCP-alfas dessa árvore."
   ]
  },
  {
   "cell_type": "code",
   "execution_count": 17,
   "metadata": {},
   "outputs": [
    {
     "data": {
      "text/plain": [
       "{'ccp_alphas': array([0.00000000e+00, 4.79944434e-15, 1.31926121e-05, 5.27704485e-05,\n",
       "        1.18733509e-04, 1.18733509e-04, 2.11081794e-04, 3.29815303e-04,\n",
       "        8.44327177e-04, 8.61917326e-04, 1.27088830e-03, 1.31926121e-03,\n",
       "        1.93931398e-03, 2.12840809e-03, 2.96833773e-03, 3.16622691e-03,\n",
       "        3.37730871e-03, 3.81266491e-03, 3.82208820e-03, 4.07689408e-03,\n",
       "        4.22603342e-03, 4.76253298e-03, 6.02022867e-03, 6.38522427e-03,\n",
       "        7.39226033e-03, 8.18161829e-03, 9.28979771e-03, 1.05936675e-02,\n",
       "        1.44098505e-02, 1.80606860e-02, 1.83955271e-02, 1.97363572e-02,\n",
       "        1.99538259e-02, 2.21767810e-02, 2.25153914e-02, 2.38291557e-02,\n",
       "        2.45735959e-02, 2.69349164e-02, 2.95690413e-02, 3.37902793e-02,\n",
       "        3.44202194e-02, 3.53238955e-02, 3.54786550e-02, 4.03928467e-02,\n",
       "        4.10651035e-02, 4.23967678e-02, 4.29228965e-02, 4.44075889e-02,\n",
       "        5.38277422e-02, 5.42245676e-02, 5.58048778e-02, 5.89982410e-02,\n",
       "        6.43546251e-02, 6.46785169e-02, 6.86279683e-02, 7.06949161e-02,\n",
       "        7.54177661e-02, 7.89621812e-02, 8.12052105e-02, 9.03901244e-02,\n",
       "        9.15465600e-02, 9.22790552e-02, 9.28853581e-02, 1.01665267e-01,\n",
       "        1.01701788e-01, 1.11807938e-01, 1.14168648e-01, 1.27141784e-01,\n",
       "        1.32255440e-01, 1.43242744e-01, 1.45555273e-01, 1.50527862e-01,\n",
       "        1.51447363e-01, 1.72729518e-01, 1.79561084e-01, 1.93885664e-01,\n",
       "        2.33364116e-01, 2.48662189e-01, 2.62100230e-01, 3.24506310e-01,\n",
       "        3.28245105e-01, 3.48345588e-01, 3.68152837e-01, 4.84532134e-01,\n",
       "        5.70379969e-01, 6.01131559e-01, 6.31733942e-01, 8.24706993e-01,\n",
       "        9.83005679e-01, 1.38237467e+00, 1.49375909e+00, 4.63545958e+00,\n",
       "        5.35090073e+00, 5.49218128e+00, 1.57082865e+01, 4.01714542e+01]),\n",
       " 'impurities': array([ 2.19937351,  2.19937351,  2.1993867 ,  2.19943947,  2.19955821,\n",
       "         2.19967694,  2.19988802,  2.20021784,  2.20106216,  2.20192408,\n",
       "         2.20319497,  2.20451423,  2.20645355,  2.20858195,  2.21155029,\n",
       "         2.21471652,  2.21809383,  2.22190649,  2.22572858,  2.22980547,\n",
       "         2.23403151,  2.23879404,  2.24481427,  2.25119949,  2.25859175,\n",
       "         2.26677337,  2.27606317,  2.29725051,  2.31166036,  2.32972104,\n",
       "         2.34811657,  2.36785293,  2.38780675,  2.40998353,  2.43249892,\n",
       "         2.45632808,  2.50547527,  2.53241019,  2.56197923,  2.59576951,\n",
       "         2.63018973,  2.66551362,  2.70099228,  2.74138513,  2.78245023,\n",
       "         2.824847  ,  2.86776989,  2.91217748,  2.96600522,  3.02022979,\n",
       "         3.07603467,  3.13503291,  3.19938754,  3.26406605,  3.33269402,\n",
       "         3.40338894,  3.4788067 ,  3.55776888,  3.63897409,  3.72936422,\n",
       "         3.82091078,  3.91318983,  4.00607519,  4.20940573,  4.31110752,\n",
       "         4.42291545,  4.5370841 ,  4.66422588,  4.79648132,  4.93972407,\n",
       "         5.08527934,  5.2358072 ,  5.38725457,  5.55998408,  5.73954517,\n",
       "         5.93343083,  6.16679495,  6.41545714,  6.67755737,  7.00206368,\n",
       "         7.65855389,  8.00689948,  8.37505231,  8.85958445,  9.42996442,\n",
       "        10.03109598, 10.66282992, 11.48753691, 12.47054259, 13.85291726,\n",
       "        15.34667635, 19.98213594, 25.33303666, 30.82521794, 46.53350441,\n",
       "        86.70495861])}"
      ]
     },
     "execution_count": 17,
     "metadata": {},
     "output_type": "execute_result"
    }
   ],
   "source": [
    "# Calculando o CCP para a arvore de profundidade 8\n",
    "path1 = tree1.cost_complexity_pruning_path(x_train, y_train)\n",
    "path1"
   ]
  },
  {
   "cell_type": "code",
   "execution_count": 18,
   "metadata": {},
   "outputs": [
    {
     "data": {
      "text/plain": [
       "{'ccp_alphas': array([ 0.        ,  5.35090073, 15.70828647, 40.1714542 ]),\n",
       " 'impurities': array([25.47431722, 30.82521794, 46.53350441, 86.70495861])}"
      ]
     },
     "execution_count": 18,
     "metadata": {},
     "output_type": "execute_result"
    }
   ],
   "source": [
    "# Calculando o CCP para a arvore de profundidade 2\n",
    "path2 = tree2.cost_complexity_pruning_path(x_train, y_train)\n",
    "path2"
   ]
  },
  {
   "cell_type": "markdown",
   "metadata": {},
   "source": [
    "### 3. Para cada valor de alpha obtido no item 2, treine uma árvore com o respectivo alfa, e guarde essa árvore em uma lista."
   ]
  },
  {
   "cell_type": "code",
   "execution_count": 19,
   "metadata": {},
   "outputs": [
    {
     "data": {
      "text/plain": [
       "[DecisionTreeRegressor(random_state=0),\n",
       " DecisionTreeRegressor(ccp_alpha=4.799444336532603e-15, random_state=0),\n",
       " DecisionTreeRegressor(ccp_alpha=1.3192612137191168e-05, random_state=0),\n",
       " DecisionTreeRegressor(ccp_alpha=5.2770448548802164e-05, random_state=0),\n",
       " DecisionTreeRegressor(ccp_alpha=0.00011873350923487049, random_state=0),\n",
       " DecisionTreeRegressor(ccp_alpha=0.00011873350923502047, random_state=0),\n",
       " DecisionTreeRegressor(ccp_alpha=0.00021108179419685846, random_state=0),\n",
       " DecisionTreeRegressor(ccp_alpha=0.00032981530343007914, random_state=0),\n",
       " DecisionTreeRegressor(ccp_alpha=0.0008443271767807596, random_state=0),\n",
       " DecisionTreeRegressor(ccp_alpha=0.0008619173262977644, random_state=0),\n",
       " DecisionTreeRegressor(ccp_alpha=0.0012708883025507657, random_state=0),\n",
       " DecisionTreeRegressor(ccp_alpha=0.0013192612137200917, random_state=0),\n",
       " DecisionTreeRegressor(ccp_alpha=0.0019393139841683016, random_state=0),\n",
       " DecisionTreeRegressor(ccp_alpha=0.0021284080914692415, random_state=0),\n",
       " DecisionTreeRegressor(ccp_alpha=0.002968337730870712, random_state=0),\n",
       " DecisionTreeRegressor(ccp_alpha=0.00316622691292468, random_state=0),\n",
       " DecisionTreeRegressor(ccp_alpha=0.0033773087071258885, random_state=0),\n",
       " DecisionTreeRegressor(ccp_alpha=0.003812664907651847, random_state=0),\n",
       " DecisionTreeRegressor(ccp_alpha=0.003822088202063323, random_state=0),\n",
       " DecisionTreeRegressor(ccp_alpha=0.004076894082170357, random_state=0),\n",
       " DecisionTreeRegressor(ccp_alpha=0.004226033421284361, random_state=0),\n",
       " DecisionTreeRegressor(ccp_alpha=0.004762532981530211, random_state=0),\n",
       " DecisionTreeRegressor(ccp_alpha=0.006020228671942136, random_state=0),\n",
       " DecisionTreeRegressor(ccp_alpha=0.006385224274398125, random_state=0),\n",
       " DecisionTreeRegressor(ccp_alpha=0.007392260334213018, random_state=0),\n",
       " DecisionTreeRegressor(ccp_alpha=0.008181618293755556, random_state=0),\n",
       " DecisionTreeRegressor(ccp_alpha=0.009289797713280888, random_state=0),\n",
       " DecisionTreeRegressor(ccp_alpha=0.010593667546174556, random_state=0),\n",
       " DecisionTreeRegressor(ccp_alpha=0.0144098504837285, random_state=0),\n",
       " DecisionTreeRegressor(ccp_alpha=0.018060686015832408, random_state=0),\n",
       " DecisionTreeRegressor(ccp_alpha=0.018395527076268653, random_state=0),\n",
       " DecisionTreeRegressor(ccp_alpha=0.019736357163798728, random_state=0),\n",
       " DecisionTreeRegressor(ccp_alpha=0.01995382585751949, random_state=0),\n",
       " DecisionTreeRegressor(ccp_alpha=0.02217678100263845, random_state=0),\n",
       " DecisionTreeRegressor(ccp_alpha=0.02251539138082651, random_state=0),\n",
       " DecisionTreeRegressor(ccp_alpha=0.023829155672823517, random_state=0),\n",
       " DecisionTreeRegressor(ccp_alpha=0.024573595929136906, random_state=0),\n",
       " DecisionTreeRegressor(ccp_alpha=0.026934916446802494, random_state=0),\n",
       " DecisionTreeRegressor(ccp_alpha=0.029569041336781274, random_state=0),\n",
       " DecisionTreeRegressor(ccp_alpha=0.033790279253571864, random_state=0),\n",
       " DecisionTreeRegressor(ccp_alpha=0.034420219413972386, random_state=0),\n",
       " DecisionTreeRegressor(ccp_alpha=0.03532389554157504, random_state=0),\n",
       " DecisionTreeRegressor(ccp_alpha=0.03547865503010552, random_state=0),\n",
       " DecisionTreeRegressor(ccp_alpha=0.04039284667253114, random_state=0),\n",
       " DecisionTreeRegressor(ccp_alpha=0.041065103542016625, random_state=0),\n",
       " DecisionTreeRegressor(ccp_alpha=0.04239676781003074, random_state=0),\n",
       " DecisionTreeRegressor(ccp_alpha=0.04292289651128364, random_state=0),\n",
       " DecisionTreeRegressor(ccp_alpha=0.04440758889306096, random_state=0),\n",
       " DecisionTreeRegressor(ccp_alpha=0.0538277421786681, random_state=0),\n",
       " DecisionTreeRegressor(ccp_alpha=0.05422456757545034, random_state=0),\n",
       " DecisionTreeRegressor(ccp_alpha=0.05580487783990129, random_state=0),\n",
       " DecisionTreeRegressor(ccp_alpha=0.058998240985050396, random_state=0),\n",
       " DecisionTreeRegressor(ccp_alpha=0.06435462514620202, random_state=0),\n",
       " DecisionTreeRegressor(ccp_alpha=0.06467851687263831, random_state=0),\n",
       " DecisionTreeRegressor(ccp_alpha=0.06862796833773144, random_state=0),\n",
       " DecisionTreeRegressor(ccp_alpha=0.07069491611013856, random_state=0),\n",
       " DecisionTreeRegressor(ccp_alpha=0.07541776605101304, random_state=0),\n",
       " DecisionTreeRegressor(ccp_alpha=0.0789621811785378, random_state=0),\n",
       " DecisionTreeRegressor(ccp_alpha=0.08120521045167906, random_state=0),\n",
       " DecisionTreeRegressor(ccp_alpha=0.09039012438749841, random_state=0),\n",
       " DecisionTreeRegressor(ccp_alpha=0.09154656001335554, random_state=0),\n",
       " DecisionTreeRegressor(ccp_alpha=0.09227905515766868, random_state=0),\n",
       " DecisionTreeRegressor(ccp_alpha=0.09288535811250066, random_state=0),\n",
       " DecisionTreeRegressor(ccp_alpha=0.1016652674502341, random_state=0),\n",
       " DecisionTreeRegressor(ccp_alpha=0.10170178773960714, random_state=0),\n",
       " DecisionTreeRegressor(ccp_alpha=0.11180793755497023, random_state=0),\n",
       " DecisionTreeRegressor(ccp_alpha=0.11416864797471316, random_state=0),\n",
       " DecisionTreeRegressor(ccp_alpha=0.12714178393431969, random_state=0),\n",
       " DecisionTreeRegressor(ccp_alpha=0.13225544011532087, random_state=0),\n",
       " DecisionTreeRegressor(ccp_alpha=0.14324274406334792, random_state=0),\n",
       " DecisionTreeRegressor(ccp_alpha=0.1455552728370304, random_state=0),\n",
       " DecisionTreeRegressor(ccp_alpha=0.15052786154028058, random_state=0),\n",
       " DecisionTreeRegressor(ccp_alpha=0.15144736338953863, random_state=0),\n",
       " DecisionTreeRegressor(ccp_alpha=0.17272951762405853, random_state=0),\n",
       " DecisionTreeRegressor(ccp_alpha=0.17956108388825343, random_state=0),\n",
       " DecisionTreeRegressor(ccp_alpha=0.1938856640281013, random_state=0),\n",
       " DecisionTreeRegressor(ccp_alpha=0.2333641160949874, random_state=0),\n",
       " DecisionTreeRegressor(ccp_alpha=0.2486621891741001, random_state=0),\n",
       " DecisionTreeRegressor(ccp_alpha=0.262100230186868, random_state=0),\n",
       " DecisionTreeRegressor(ccp_alpha=0.32450630979986494, random_state=0),\n",
       " DecisionTreeRegressor(ccp_alpha=0.3282451052635635, random_state=0),\n",
       " DecisionTreeRegressor(ccp_alpha=0.348345588235296, random_state=0),\n",
       " DecisionTreeRegressor(ccp_alpha=0.3681528368604343, random_state=0),\n",
       " DecisionTreeRegressor(ccp_alpha=0.48453213431795117, random_state=0),\n",
       " DecisionTreeRegressor(ccp_alpha=0.5703799687684756, random_state=0),\n",
       " DecisionTreeRegressor(ccp_alpha=0.6011315593771671, random_state=0),\n",
       " DecisionTreeRegressor(ccp_alpha=0.6317339417547072, random_state=0),\n",
       " DecisionTreeRegressor(ccp_alpha=0.8247069926070427, random_state=0),\n",
       " DecisionTreeRegressor(ccp_alpha=0.9830056788255084, random_state=0),\n",
       " DecisionTreeRegressor(ccp_alpha=1.3823746706050608, random_state=0),\n",
       " DecisionTreeRegressor(ccp_alpha=1.4937590949068769, random_state=0),\n",
       " DecisionTreeRegressor(ccp_alpha=4.635459582833027, random_state=0),\n",
       " DecisionTreeRegressor(ccp_alpha=5.35090072534452, random_state=0),\n",
       " DecisionTreeRegressor(ccp_alpha=5.492181278483775, random_state=0),\n",
       " DecisionTreeRegressor(ccp_alpha=15.708286467270632, random_state=0),\n",
       " DecisionTreeRegressor(ccp_alpha=40.17145420409139, random_state=0)]"
      ]
     },
     "execution_count": 19,
     "metadata": {},
     "output_type": "execute_result"
    }
   ],
   "source": [
    "# Atribuindo os valores de alpha e as impurezas para as variáveis ccp_alphas e impurities respectivamente\n",
    "ccp_alphas, impurities = path1.ccp_alphas, path1.impurities\n",
    "\n",
    "clfs = []\n",
    "\n",
    "for ccp_alpha in ccp_alphas:\n",
    "    clf = DecisionTreeRegressor(random_state=0, ccp_alpha=ccp_alpha)\n",
    "    clf.fit(x_train, y_train)\n",
    "    clfs.append(clf)\n",
    "    \n",
    "clfs"
   ]
  },
  {
   "cell_type": "markdown",
   "metadata": {},
   "source": [
    "### 4. Para cada árvore na lista, calcule o MSE da árvore."
   ]
  },
  {
   "cell_type": "code",
   "execution_count": 22,
   "metadata": {},
   "outputs": [],
   "source": [
    "# Utilizando list comprehension para guardar todos valores de MSE de cada árvore \n",
    "# Observado que são os mesmos valores de impurities visto ao tirar o CCP\n",
    "train_scores = [mean_squared_error(y_train, clf.predict(x_train)) for clf in clfs]\n",
    "test_scores = [mean_squared_error(y_test, clf.predict(x_test)) for clf in clfs]"
   ]
  },
  {
   "cell_type": "code",
   "execution_count": 23,
   "metadata": {
    "scrolled": true
   },
   "outputs": [
    {
     "data": {
      "text/plain": [
       "[0.0,\n",
       " 0.0,\n",
       " 0.00017150395778364088,\n",
       " 0.0008707124010554048,\n",
       " 0.002216358839050122,\n",
       " 0.0024538258575197798,\n",
       " 0.00480870712401054,\n",
       " 0.009696569920844313,\n",
       " 0.024386543535620038,\n",
       " 0.030367194371152144,\n",
       " 0.04673394898856635,\n",
       " 0.04934608619173257,\n",
       " 0.07148548812664902,\n",
       " 0.07749252418645555,\n",
       " 0.11946745822339487,\n",
       " 0.12564256016630684,\n",
       " 0.13239717758055486,\n",
       " 0.15739278004317578,\n",
       " 0.1650275331528629,\n",
       " 0.1731712698031959,\n",
       " 0.17739730322447997,\n",
       " 0.21323434305360425,\n",
       " 0.293992449942318,\n",
       " 0.31282065281537574,\n",
       " 0.3345321743633089,\n",
       " 0.35772698526920166,\n",
       " 0.4268696225351898,\n",
       " 0.4871059796989876,\n",
       " 0.6314972348817997,\n",
       " 0.8292082538540323,\n",
       " 0.8292082538540323,\n",
       " 0.9236245236001174,\n",
       " 0.9435783494576372,\n",
       " 1.0291786761318422,\n",
       " 1.0291786761318422,\n",
       " 1.1669076850297166,\n",
       " 1.2398840325608134,\n",
       " 1.2917435626525335,\n",
       " 1.3192646080099906,\n",
       " 1.501426822231342,\n",
       " 1.6034455882691576,\n",
       " 1.6381174220422445,\n",
       " 1.6734413175838183,\n",
       " 1.7849554727338572,\n",
       " 1.866413422948404,\n",
       " 1.866413422948404,\n",
       " 1.866413422948404,\n",
       " 1.995301029222224,\n",
       " 2.248438488344187,\n",
       " 2.3562432795658643,\n",
       " 2.4662727249811938,\n",
       " 2.4662727249811938,\n",
       " 2.589625591112424,\n",
       " 2.6543041079850807,\n",
       " 2.6543041079850807,\n",
       " 2.793560867057143,\n",
       " 2.8642557831672795,\n",
       " 3.2473695953148294,\n",
       " 3.2473695953148294,\n",
       " 3.418964930153995,\n",
       " 3.510511490167344,\n",
       " 3.602790545325027,\n",
       " 3.602790545325027,\n",
       " 3.6956759034375275,\n",
       " 3.899006438337983,\n",
       " 3.899006438337983,\n",
       " 4.12498302386767,\n",
       " 4.252124807801999,\n",
       " 4.252124807801999,\n",
       " 4.79648132466004,\n",
       " 4.939724068723364,\n",
       " 5.085279341560445,\n",
       " 5.235807203100838,\n",
       " 5.387254566490384,\n",
       " 5.559984084114361,\n",
       " 5.739545168002622,\n",
       " 6.1667949481257525,\n",
       " 6.415457137299816,\n",
       " 6.677557367486701,\n",
       " 6.677557367486701,\n",
       " 7.658553887813697,\n",
       " 8.006899476048988,\n",
       " 8.375052312909329,\n",
       " 8.859584447227162,\n",
       " 8.859584447227162,\n",
       " 9.429964415995672,\n",
       " 10.031095975372615,\n",
       " 10.662829917127567,\n",
       " 12.47054258856027,\n",
       " 12.47054258856027,\n",
       " 13.852917259165284,\n",
       " 19.982135936905085,\n",
       " 25.33303666224941,\n",
       " 30.82521794073346,\n",
       " 46.5335044080041,\n",
       " 86.70495861209542]"
      ]
     },
     "execution_count": 23,
     "metadata": {},
     "output_type": "execute_result"
    }
   ],
   "source": [
    "train_scores"
   ]
  },
  {
   "cell_type": "code",
   "execution_count": 24,
   "metadata": {
    "scrolled": true
   },
   "outputs": [
    {
     "data": {
      "text/plain": [
       "[16.676929133858273,\n",
       " 16.676929133858273,\n",
       " 16.664822834645673,\n",
       " 16.638622047244095,\n",
       " 16.586340769903764,\n",
       " 16.57795494313211,\n",
       " 16.586478565179355,\n",
       " 16.632798009623798,\n",
       " 16.65494015748032,\n",
       " 16.75501014873141,\n",
       " 16.79066894138233,\n",
       " 16.788602012248468,\n",
       " 16.672572440944883,\n",
       " 16.641914085739288,\n",
       " 16.46034899387577,\n",
       " 16.4468532692711,\n",
       " 16.54008161572779,\n",
       " 16.54321967347057,\n",
       " 16.536753740640744,\n",
       " 16.480341220777152,\n",
       " 16.482036321389575,\n",
       " 16.446537235561024,\n",
       " 16.306976199894294,\n",
       " 16.30982931527868,\n",
       " 16.358473234788736,\n",
       " 16.341937801717872,\n",
       " 16.262946763209293,\n",
       " 16.10005812042059,\n",
       " 16.012676724456696,\n",
       " 15.886286547335978,\n",
       " 15.886286547335978,\n",
       " 15.744428622191077,\n",
       " 15.742533937151705,\n",
       " 15.496350870749293,\n",
       " 15.496350870749293,\n",
       " 15.951268352920575,\n",
       " 16.022883781572354,\n",
       " 16.42398587595341,\n",
       " 16.44151904145058,\n",
       " 16.48409663706329,\n",
       " 16.332649834095655,\n",
       " 16.083163490591723,\n",
       " 16.08876606828356,\n",
       " 15.96631848506039,\n",
       " 15.881695533476426,\n",
       " 15.881695533476426,\n",
       " 15.881695533476426,\n",
       " 15.602015066017492,\n",
       " 14.964670685844192,\n",
       " 15.013627285763253,\n",
       " 14.976888939762107,\n",
       " 14.976888939762107,\n",
       " 14.549269869216932,\n",
       " 14.902908602394675,\n",
       " 14.902908602394675,\n",
       " 14.842519227734158,\n",
       " 14.884121569028514,\n",
       " 14.27623531658964,\n",
       " 14.27623531658964,\n",
       " 14.362736043380696,\n",
       " 14.451507770301975,\n",
       " 14.718937920104675,\n",
       " 14.718937920104675,\n",
       " 14.802806145077263,\n",
       " 14.280364825113123,\n",
       " 14.280364825113123,\n",
       " 14.358597534426233,\n",
       " 14.62528689356884,\n",
       " 14.62528689356884,\n",
       " 14.857172053864197,\n",
       " 14.834376581423253,\n",
       " 14.894485629760466,\n",
       " 15.43670777735474,\n",
       " 15.493465521956137,\n",
       " 15.498203559509134,\n",
       " 15.230546768592127,\n",
       " 13.411161029309538,\n",
       " 13.503621864577031,\n",
       " 13.035186042703492,\n",
       " 13.035186042703492,\n",
       " 12.969915848120836,\n",
       " 12.757370988453372,\n",
       " 12.821419377084093,\n",
       " 13.735658045611652,\n",
       " 13.735658045611652,\n",
       " 13.20143787745337,\n",
       " 13.193169189885971,\n",
       " 13.432278110521915,\n",
       " 15.797530225731037,\n",
       " 15.797530225731037,\n",
       " 17.810091397614006,\n",
       " 21.747430700753384,\n",
       " 26.090469208395643,\n",
       " 30.806520384795366,\n",
       " 49.02346441011676,\n",
       " 77.61358999281178]"
      ]
     },
     "execution_count": 24,
     "metadata": {},
     "output_type": "execute_result"
    }
   ],
   "source": [
    "test_scores"
   ]
  },
  {
   "cell_type": "markdown",
   "metadata": {},
   "source": [
    "### 5. Monte um gráfico do MSE pelo alpha, escolha um valor de alpha perto do ponto de mínimo do MSE"
   ]
  },
  {
   "cell_type": "code",
   "execution_count": 27,
   "metadata": {},
   "outputs": [
    {
     "data": {
      "image/png": "[encoded data removed]",
      "text/plain": [
       "<Figure size 640x480 with 1 Axes>"
      ]
     },
     "metadata": {},
     "output_type": "display_data"
    }
   ],
   "source": [
    "# Plot dos resultados\n",
    "plt.figure()\n",
    "plt.plot(ccp_alphas, train_scores, marker='o', label='Treinamento')\n",
    "plt.plot(ccp_alphas, test_scores, marker='o', label='Teste')\n",
    "plt.xlabel(\"Alpha\")\n",
    "plt.ylabel(\"MSE\")\n",
    "plt.title(\"MSE pelo Alpha\")\n",
    "plt.legend()\n",
    "plt.show()\n"
   ]
  },
  {
   "cell_type": "code",
   "execution_count": 31,
   "metadata": {},
   "outputs": [
    {
     "data": {
      "text/plain": [
       "12.757370988453372"
      ]
     },
     "execution_count": 31,
     "metadata": {},
     "output_type": "execute_result"
    }
   ],
   "source": [
    "# Indicando o MSE mínimo para obter o ponto ótimo\n",
    "MSE_minimo = min(test_scores)\n",
    "MSE_minimo"
   ]
  },
  {
   "cell_type": "code",
   "execution_count": 32,
   "metadata": {},
   "outputs": [
    {
     "data": {
      "text/html": [
       "<style>#sk-container-id-2 {color: black;background-color: white;}#sk-container-id-2 pre{padding: 0;}#sk-container-id-2 div.sk-toggleable {background-color: white;}#sk-container-id-2 label.sk-toggleable__label {cursor: pointer;display: block;width: 100%;margin-bottom: 0;padding: 0.3em;box-sizing: border-box;text-align: center;}#sk-container-id-2 label.sk-toggleable__label-arrow:before {content: \"▸\";float: left;margin-right: 0.25em;color: #696969;}#sk-container-id-2 label.sk-toggleable__label-arrow:hover:before {color: black;}#sk-container-id-2 div.sk-estimator:hover label.sk-toggleable__label-arrow:before {color: black;}#sk-container-id-2 div.sk-toggleable__content {max-height: 0;max-width: 0;overflow: hidden;text-align: left;background-color: #f0f8ff;}#sk-container-id-2 div.sk-toggleable__content pre {margin: 0.2em;color: black;border-radius: 0.25em;background-color: #f0f8ff;}#sk-container-id-2 input.sk-toggleable__control:checked~div.sk-toggleable__content {max-height: 200px;max-width: 100%;overflow: auto;}#sk-container-id-2 input.sk-toggleable__control:checked~label.sk-toggleable__label-arrow:before {content: \"▾\";}#sk-container-id-2 div.sk-estimator input.sk-toggleable__control:checked~label.sk-toggleable__label {background-color: #d4ebff;}#sk-container-id-2 div.sk-label input.sk-toggleable__control:checked~label.sk-toggleable__label {background-color: #d4ebff;}#sk-container-id-2 input.sk-hidden--visually {border: 0;clip: rect(1px 1px 1px 1px);clip: rect(1px, 1px, 1px, 1px);height: 1px;margin: -1px;overflow: hidden;padding: 0;position: absolute;width: 1px;}#sk-container-id-2 div.sk-estimator {font-family: monospace;background-color: #f0f8ff;border: 1px dotted black;border-radius: 0.25em;box-sizing: border-box;margin-bottom: 0.5em;}#sk-container-id-2 div.sk-estimator:hover {background-color: #d4ebff;}#sk-container-id-2 div.sk-parallel-item::after {content: \"\";width: 100%;border-bottom: 1px solid gray;flex-grow: 1;}#sk-container-id-2 div.sk-label:hover label.sk-toggleable__label {background-color: #d4ebff;}#sk-container-id-2 div.sk-serial::before {content: \"\";position: absolute;border-left: 1px solid gray;box-sizing: border-box;top: 0;bottom: 0;left: 50%;z-index: 0;}#sk-container-id-2 div.sk-serial {display: flex;flex-direction: column;align-items: center;background-color: white;padding-right: 0.2em;padding-left: 0.2em;position: relative;}#sk-container-id-2 div.sk-item {position: relative;z-index: 1;}#sk-container-id-2 div.sk-parallel {display: flex;align-items: stretch;justify-content: center;background-color: white;position: relative;}#sk-container-id-2 div.sk-item::before, #sk-container-id-2 div.sk-parallel-item::before {content: \"\";position: absolute;border-left: 1px solid gray;box-sizing: border-box;top: 0;bottom: 0;left: 50%;z-index: -1;}#sk-container-id-2 div.sk-parallel-item {display: flex;flex-direction: column;z-index: 1;position: relative;background-color: white;}#sk-container-id-2 div.sk-parallel-item:first-child::after {align-self: flex-end;width: 50%;}#sk-container-id-2 div.sk-parallel-item:last-child::after {align-self: flex-start;width: 50%;}#sk-container-id-2 div.sk-parallel-item:only-child::after {width: 0;}#sk-container-id-2 div.sk-dashed-wrapped {border: 1px dashed gray;margin: 0 0.4em 0.5em 0.4em;box-sizing: border-box;padding-bottom: 0.4em;background-color: white;}#sk-container-id-2 div.sk-label label {font-family: monospace;font-weight: bold;display: inline-block;line-height: 1.2em;}#sk-container-id-2 div.sk-label-container {text-align: center;}#sk-container-id-2 div.sk-container {/* jupyter's `normalize.less` sets `[hidden] { display: none; }` but bootstrap.min.css set `[hidden] { display: none !important; }` so we also need the `!important` here to be able to override the default hidden behavior on the sphinx rendered scikit-learn.org. See: https://github.com/scikit-learn/scikit-learn/issues/21755 */display: inline-block !important;position: relative;}#sk-container-id-2 div.sk-text-repr-fallback {display: none;}</style><div id=\"sk-container-id-2\" class=\"sk-top-container\"><div class=\"sk-text-repr-fallback\"><pre>DecisionTreeRegressor(ccp_alpha=12.757370988453372, random_state=0)</pre><b>In a Jupyter environment, please rerun this cell to show the HTML representation or trust the notebook. <br />On GitHub, the HTML representation is unable to render, please try loading this page with nbviewer.org.</b></div><div class=\"sk-container\" hidden><div class=\"sk-item\"><div class=\"sk-estimator sk-toggleable\"><input class=\"sk-toggleable__control sk-hidden--visually\" id=\"sk-estimator-id-2\" type=\"checkbox\" checked><label for=\"sk-estimator-id-2\" class=\"sk-toggleable__label sk-toggleable__label-arrow\">DecisionTreeRegressor</label><div class=\"sk-toggleable__content\"><pre>DecisionTreeRegressor(ccp_alpha=12.757370988453372, random_state=0)</pre></div></div></div></div></div>"
      ],
      "text/plain": [
       "DecisionTreeRegressor(ccp_alpha=12.757370988453372, random_state=0)"
      ]
     },
     "execution_count": 32,
     "metadata": {},
     "output_type": "execute_result"
    }
   ],
   "source": [
    "arvore_otima = DecisionTreeRegressor(random_state=0, ccp_alpha=12.757370988453372)\n",
    "arvore_otima.fit(x_train, y_train)"
   ]
  },
  {
   "cell_type": "markdown",
   "metadata": {},
   "source": [
    "### 6. Calcule o R-quadrado dessa árvore encontrada no item acima"
   ]
  },
  {
   "cell_type": "code",
   "execution_count": 33,
   "metadata": {},
   "outputs": [
    {
     "name": "stdout",
     "output_type": "stream",
     "text": [
      "R²: 0.6027876906129598\n"
     ]
    }
   ],
   "source": [
    "print(f'R²: {arvore_otima.score(x_test, y_test)}')"
   ]
  },
  {
   "cell_type": "markdown",
   "metadata": {},
   "source": [
    "### 7. Visualize esta árvore."
   ]
  },
  {
   "cell_type": "code",
   "execution_count": 41,
   "metadata": {},
   "outputs": [
    {
     "data": {
      "image/png": "[encoded data removed]",
      "text/plain": [
       "<Figure size 640x480 with 1 Axes>"
      ]
     },
     "metadata": {},
     "output_type": "display_data"
    }
   ],
   "source": [
    "plot_arvore_otima = tree.plot_tree(arvore_otima, feature_names=x.columns, filled=True)"
   ]
  },
  {
   "cell_type": "code",
   "execution_count": 37,
   "metadata": {},
   "outputs": [],
   "source": [
    "# Exportar a árvore em formato DOT\n",
    "dot_data = tree.export_graphviz(arvore_otima, out_file=None, filled=True, rounded=True, \n",
    "                                feature_names=x_train.columns)"
   ]
  },
  {
   "cell_type": "code",
   "execution_count": 38,
   "metadata": {},
   "outputs": [],
   "source": [
    "# Criar o objeto Graph a partir do DOT\n",
    "graph = graphviz.Source(dot_data)"
   ]
  },
  {
   "cell_type": "code",
   "execution_count": 40,
   "metadata": {},
   "outputs": [
    {
     "data": {
      "image/svg+xml": [
       "<?xml version=\"1.0\" encoding=\"UTF-8\" standalone=\"no\"?>\n",
       "<!DOCTYPE svg PUBLIC \"-//W3C//DTD SVG 1.1//EN\"\n",
       " \"http://www.w3.org/Graphics/SVG/1.1/DTD/svg11.dtd\">\n",
       "<!-- Generated by graphviz version 8.0.5 (20230430.1635)\n",
       " -->\n",
       "<!-- Title: Tree Pages: 1 -->\n",
       "<svg width=\"452pt\" height=\"286pt\"\n",
       " viewBox=\"0.00 0.00 451.75 285.50\" xmlns=\"http://www.w3.org/2000/svg\" xmlns:xlink=\"http://www.w3.org/1999/xlink\">\n",
       "<g id=\"graph0\" class=\"graph\" transform=\"scale(1 1) rotate(0) translate(4 281.5)\">\n",
       "<title>Tree</title>\n",
       "<polygon fill=\"white\" stroke=\"none\" points=\"-4,4 -4,-281.5 447.75,-281.5 447.75,4 -4,4\"/>\n",
       "<!-- 0 -->\n",
       "<g id=\"node1\" class=\"node\">\n",
       "<title>0</title>\n",
       "<path fill=\"#fae7d9\" stroke=\"black\" d=\"M338.75,-277.5C338.75,-277.5 196,-277.5 196,-277.5 190,-277.5 184,-271.5 184,-265.5 184,-265.5 184,-215.5 184,-215.5 184,-209.5 190,-203.5 196,-203.5 196,-203.5 338.75,-203.5 338.75,-203.5 344.75,-203.5 350.75,-209.5 350.75,-215.5 350.75,-215.5 350.75,-265.5 350.75,-265.5 350.75,-271.5 344.75,-277.5 338.75,-277.5\"/>\n",
       "<text text-anchor=\"middle\" x=\"267.38\" y=\"-260.2\" font-family=\"Helvetica,sans-Serif\" font-size=\"14.00\">lstat &lt;= 9.725</text>\n",
       "<text text-anchor=\"middle\" x=\"267.38\" y=\"-243.7\" font-family=\"Helvetica,sans-Serif\" font-size=\"14.00\">squared_error = 86.705</text>\n",
       "<text text-anchor=\"middle\" x=\"267.38\" y=\"-227.2\" font-family=\"Helvetica,sans-Serif\" font-size=\"14.00\">samples = 379</text>\n",
       "<text text-anchor=\"middle\" x=\"267.38\" y=\"-210.7\" font-family=\"Helvetica,sans-Serif\" font-size=\"14.00\">value = 22.593</text>\n",
       "</g>\n",
       "<!-- 1 -->\n",
       "<g id=\"node2\" class=\"node\">\n",
       "<title>1</title>\n",
       "<path fill=\"#f3c4a2\" stroke=\"black\" d=\"M246.75,-167.5C246.75,-167.5 104,-167.5 104,-167.5 98,-167.5 92,-161.5 92,-155.5 92,-155.5 92,-105.5 92,-105.5 92,-99.5 98,-93.5 104,-93.5 104,-93.5 246.75,-93.5 246.75,-93.5 252.75,-93.5 258.75,-99.5 258.75,-105.5 258.75,-105.5 258.75,-155.5 258.75,-155.5 258.75,-161.5 252.75,-167.5 246.75,-167.5\"/>\n",
       "<text text-anchor=\"middle\" x=\"175.38\" y=\"-150.2\" font-family=\"Helvetica,sans-Serif\" font-size=\"14.00\">rm &lt;= 7.437</text>\n",
       "<text text-anchor=\"middle\" x=\"175.38\" y=\"-133.7\" font-family=\"Helvetica,sans-Serif\" font-size=\"14.00\">squared_error = 79.147</text>\n",
       "<text text-anchor=\"middle\" x=\"175.38\" y=\"-117.2\" font-family=\"Helvetica,sans-Serif\" font-size=\"14.00\">samples = 156</text>\n",
       "<text text-anchor=\"middle\" x=\"175.38\" y=\"-100.7\" font-family=\"Helvetica,sans-Serif\" font-size=\"14.00\">value = 30.171</text>\n",
       "</g>\n",
       "<!-- 0&#45;&gt;1 -->\n",
       "<g id=\"edge1\" class=\"edge\">\n",
       "<title>0&#45;&gt;1</title>\n",
       "<path fill=\"none\" stroke=\"black\" d=\"M236.48,-203.24C229.05,-194.51 221.02,-185.09 213.31,-176.03\"/>\n",
       "<polygon fill=\"black\" stroke=\"black\" points=\"215.49,-174.19 206.34,-168.85 210.16,-178.73 215.49,-174.19\"/>\n",
       "<text text-anchor=\"middle\" x=\"204.35\" y=\"-187.72\" font-family=\"Helvetica,sans-Serif\" font-size=\"14.00\">True</text>\n",
       "</g>\n",
       "<!-- 4 -->\n",
       "<g id=\"node5\" class=\"node\">\n",
       "<title>4</title>\n",
       "<path fill=\"#ffffff\" stroke=\"black\" d=\"M431.75,-159.25C431.75,-159.25 289,-159.25 289,-159.25 283,-159.25 277,-153.25 277,-147.25 277,-147.25 277,-113.75 277,-113.75 277,-107.75 283,-101.75 289,-101.75 289,-101.75 431.75,-101.75 431.75,-101.75 437.75,-101.75 443.75,-107.75 443.75,-113.75 443.75,-113.75 443.75,-147.25 443.75,-147.25 443.75,-153.25 437.75,-159.25 431.75,-159.25\"/>\n",
       "<text text-anchor=\"middle\" x=\"360.38\" y=\"-141.95\" font-family=\"Helvetica,sans-Serif\" font-size=\"14.00\">squared_error = 23.719</text>\n",
       "<text text-anchor=\"middle\" x=\"360.38\" y=\"-125.45\" font-family=\"Helvetica,sans-Serif\" font-size=\"14.00\">samples = 223</text>\n",
       "<text text-anchor=\"middle\" x=\"360.38\" y=\"-108.95\" font-family=\"Helvetica,sans-Serif\" font-size=\"14.00\">value = 17.291</text>\n",
       "</g>\n",
       "<!-- 0&#45;&gt;4 -->\n",
       "<g id=\"edge4\" class=\"edge\">\n",
       "<title>0&#45;&gt;4</title>\n",
       "<path fill=\"none\" stroke=\"black\" d=\"M298.6,-203.24C308.45,-191.8 319.33,-179.16 329.18,-167.72\"/>\n",
       "<polygon fill=\"black\" stroke=\"black\" points=\"332.27,-170.5 336.14,-160.64 326.96,-165.94 332.27,-170.5\"/>\n",
       "<text text-anchor=\"middle\" x=\"338\" y=\"-179.52\" font-family=\"Helvetica,sans-Serif\" font-size=\"14.00\">False</text>\n",
       "</g>\n",
       "<!-- 2 -->\n",
       "<g id=\"node3\" class=\"node\">\n",
       "<title>2</title>\n",
       "<path fill=\"#f5d0b5\" stroke=\"black\" d=\"M154.75,-57.5C154.75,-57.5 12,-57.5 12,-57.5 6,-57.5 0,-51.5 0,-45.5 0,-45.5 0,-12 0,-12 0,-6 6,0 12,0 12,0 154.75,0 154.75,0 160.75,0 166.75,-6 166.75,-12 166.75,-12 166.75,-45.5 166.75,-45.5 166.75,-51.5 160.75,-57.5 154.75,-57.5\"/>\n",
       "<text text-anchor=\"middle\" x=\"83.38\" y=\"-40.2\" font-family=\"Helvetica,sans-Serif\" font-size=\"14.00\">squared_error = 40.797</text>\n",
       "<text text-anchor=\"middle\" x=\"83.38\" y=\"-23.7\" font-family=\"Helvetica,sans-Serif\" font-size=\"14.00\">samples = 132</text>\n",
       "<text text-anchor=\"middle\" x=\"83.38\" y=\"-7.2\" font-family=\"Helvetica,sans-Serif\" font-size=\"14.00\">value = 27.536</text>\n",
       "</g>\n",
       "<!-- 1&#45;&gt;2 -->\n",
       "<g id=\"edge2\" class=\"edge\">\n",
       "<title>1&#45;&gt;2</title>\n",
       "<path fill=\"none\" stroke=\"black\" d=\"M141.9,-93.21C133.64,-84.25 124.8,-74.66 116.55,-65.72\"/>\n",
       "<polygon fill=\"black\" stroke=\"black\" points=\"119.53,-63.71 110.18,-58.73 114.39,-68.45 119.53,-63.71\"/>\n",
       "</g>\n",
       "<!-- 3 -->\n",
       "<g id=\"node4\" class=\"node\">\n",
       "<title>3</title>\n",
       "<path fill=\"#e58139\" stroke=\"black\" d=\"M339.75,-57.5C339.75,-57.5 197,-57.5 197,-57.5 191,-57.5 185,-51.5 185,-45.5 185,-45.5 185,-12 185,-12 185,-6 191,0 197,0 197,0 339.75,0 339.75,0 345.75,0 351.75,-6 351.75,-12 351.75,-12 351.75,-45.5 351.75,-45.5 351.75,-51.5 345.75,-57.5 339.75,-57.5\"/>\n",
       "<text text-anchor=\"middle\" x=\"268.38\" y=\"-40.2\" font-family=\"Helvetica,sans-Serif\" font-size=\"14.00\">squared_error = 42.008</text>\n",
       "<text text-anchor=\"middle\" x=\"268.38\" y=\"-23.7\" font-family=\"Helvetica,sans-Serif\" font-size=\"14.00\">samples = 24</text>\n",
       "<text text-anchor=\"middle\" x=\"268.38\" y=\"-7.2\" font-family=\"Helvetica,sans-Serif\" font-size=\"14.00\">value = 44.658</text>\n",
       "</g>\n",
       "<!-- 1&#45;&gt;3 -->\n",
       "<g id=\"edge3\" class=\"edge\">\n",
       "<title>1&#45;&gt;3</title>\n",
       "<path fill=\"none\" stroke=\"black\" d=\"M209.21,-93.21C217.56,-84.25 226.5,-74.66 234.84,-65.72\"/>\n",
       "<polygon fill=\"black\" stroke=\"black\" points=\"237.03,-68.43 241.29,-58.73 231.91,-63.66 237.03,-68.43\"/>\n",
       "</g>\n",
       "</g>\n",
       "</svg>\n"
      ],
      "text/plain": [
       "<graphviz.sources.Source at 0x1c24a152c50>"
      ]
     },
     "execution_count": 40,
     "metadata": {},
     "output_type": "execute_result"
    }
   ],
   "source": [
    "graph"
   ]
  },
  {
   "cell_type": "code",
   "execution_count": null,
   "metadata": {},
   "outputs": [],
   "source": []
  }
 ],
 "metadata": {
  "kernelspec": {
   "display_name": "Python 3 (ipykernel)",
   "language": "python",
   "name": "python3"
  },
  "language_info": {
   "codemirror_mode": {
    "name": "ipython",
    "version": 3
   },
   "file_extension": ".py",
   "mimetype": "text/x-python",
   "name": "python",
   "nbconvert_exporter": "python",
   "pygments_lexer": "ipython3",
   "version": "3.10.9"
  }
 },
 "nbformat": 4,
 "nbformat_minor": 4
}
