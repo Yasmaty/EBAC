{
 "cells": [
  {
   "cell_type": "markdown",
   "metadata": {},
   "source": [
    "# Tarefa 01\n",
    "\n",
    "- Leia os enunciados com atenção\n",
    "- Saiba que pode haver mais de uma resposta correta\n",
    "- Insira novas células de código sempre que achar necessário\n",
    "- Em caso de dúvidas, procure os tutores\n",
    "- Divirta-se :)\n",
    "\n",
    "#### 1)  crie uma série do pandas a partir de uma lista com os dados abaixo:\n",
    "\n",
    "Em um estudo sobre alteração na tempreatura global, A NASA disponibiliza dados de diferenças de de temperatura média da superfície terrestre relativos às médias de temperatura entre 1951 e 1980. Os dados originais podem ser vistos no site da NASA/GISS, e estão dispostos a cada década na tabela abaixo.\n",
    "\n",
    "|ano|anomalia termica|\n",
    "|:-:|:----:|\n",
    "| 1900 | -0.08 |\n",
    "| 1920 | -0.27 |\n",
    "| 1940 | 0.12 |\n",
    "| 1960 | -0.03 |\n",
    "| 1980 | 0.26 |\n",
    "| 2000 | 0.40 |\n",
    "| 2020 | 1.02 |\n",
    "\n",
    "Crie uma séries do Pandas a partir de uma lista com esses dados."
   ]
  },
  {
   "cell_type": "code",
   "execution_count": 1,
   "metadata": {},
   "outputs": [],
   "source": [
    "import pandas as pd\n",
    "import numpy as np\n",
    "\n",
    "# Seu código aqui"
   ]
  },
  {
   "cell_type": "markdown",
   "metadata": {},
   "source": [
    "#### 2) Coloque os anos nos índices conforme a tabela."
   ]
  },
  {
   "cell_type": "code",
   "execution_count": 4,
   "metadata": {},
   "outputs": [
    {
     "name": "stdout",
     "output_type": "stream",
     "text": [
      "      Anomalia Térmica\n",
      "Ano                   \n",
      "1900             -0.08\n",
      "1920             -0.27\n",
      "1940              0.12\n",
      "1960             -0.03\n",
      "1980              0.26\n",
      "2000              0.40\n",
      "2020              1.02\n"
     ]
    }
   ],
   "source": [
    "# Dados fornecidos\n",
    "anos = [1900, 1920, 1940, 1960, 1980, 2000, 2020]\n",
    "anomalias_termicas = [-0.08, -0.27, 0.12, -0.03, 0.26, 0.40, 1.02]\n",
    "\n",
    "# Criar um DataFrame com os dados\n",
    "df = pd.DataFrame({'Ano': anos, 'Anomalia Térmica': anomalias_termicas})\n",
    "\n",
    "# Definir os anos como índices\n",
    "df.set_index('Ano', inplace=True)\n",
    "\n",
    "print(df)\n",
    "# seu código aqui\n"
   ]
  },
  {
   "cell_type": "markdown",
   "metadata": {},
   "source": [
    "#### 3) A partir do dicionário abaixo, crie uma séries do Pandas:"
   ]
  },
  {
   "cell_type": "code",
   "execution_count": 5,
   "metadata": {},
   "outputs": [
    {
     "name": "stdout",
     "output_type": "stream",
     "text": [
      "1900   -0.08\n",
      "1920   -0.27\n",
      "1940    0.12\n",
      "1960   -0.03\n",
      "1980    0.26\n",
      "2000    0.40\n",
      "2020    1.02\n",
      "dtype: float64\n"
     ]
    }
   ],
   "source": [
    "dic_temperaturas = {1900: -.08, 1920: -.27, 1940: .12, 1960: -.03, 1980: .26, 2000: .40, 2020: 1.02}\n",
    "\n",
    "# seu código aqui\n",
    "# Criar a série do Pandas\n",
    "serie_temperaturas = pd.Series(dic_temperaturas)\n",
    "\n",
    "# Exibir a série resultante\n",
    "print(serie_temperaturas)"
   ]
  },
  {
   "cell_type": "markdown",
   "metadata": {},
   "source": [
    "#### 4) Transforme o ndarray abaixo em um dataframe. \n",
    "O numpy é capaz de gerar arrays n-dimensionais com números pseudo-aleatórios de acordo com uma variedade de distribuições, como no exemplo abaixo. Transforme esse nd-array em um DataFrame."
   ]
  },
  {
   "cell_type": "code",
   "execution_count": 6,
   "metadata": {},
   "outputs": [
    {
     "name": "stdout",
     "output_type": "stream",
     "text": [
      "      Coluna_1    Coluna_2    Coluna_3\n",
      "0   108.354568  112.810205  107.116902\n",
      "1    93.848643  103.016066   94.569601\n",
      "2   117.067640   82.789368  106.864843\n",
      "3    80.700352  105.486105  100.846401\n",
      "4   103.288590  100.914785  102.883398\n",
      "5   100.821399  112.885231  113.556040\n",
      "6   103.389259   92.683997   94.599346\n",
      "7    96.264326  107.690734  110.724692\n",
      "8    98.690248   88.714454  120.842113\n",
      "9    96.658602  110.065863   98.815735\n",
      "10   98.408100   86.149291  105.926797\n",
      "11   94.261373   91.011694  106.177872\n",
      "12   95.885238   85.870061   99.188049\n",
      "13   89.497238  106.895153   93.705485\n",
      "14  101.639804   84.993715   84.970611\n",
      "15   80.974379  116.630734  100.170873\n",
      "16  102.604866   83.109144  104.640387\n",
      "17   97.198974   86.951190  120.806332\n",
      "18  107.111378   99.596854   92.720645\n",
      "19  108.810488   90.497136   89.909270\n"
     ]
    }
   ],
   "source": [
    "arr = np.random.normal(100, 10, (20,3))\n",
    "\n",
    "# seu código aqui\n",
    "# Criar o ndarray com números pseudo-aleatórios\n",
    "arr = np.random.normal(100, 10, (20, 3))\n",
    "\n",
    "# Transformar o ndarray em um DataFrame\n",
    "df = pd.DataFrame(arr, columns=['Coluna_1', 'Coluna_2', 'Coluna_3'])\n",
    "\n",
    "# Exibir o DataFrame resultante\n",
    "print(df)"
   ]
  },
  {
   "cell_type": "markdown",
   "metadata": {},
   "source": [
    "#### 5) Nomeie os índices das linhas com inteiros de 1 a 20, e as colunas com os nomes \"x1\", \"x2\", e \"x3\" respectivamente."
   ]
  },
  {
   "cell_type": "code",
   "execution_count": 7,
   "metadata": {},
   "outputs": [
    {
     "name": "stdout",
     "output_type": "stream",
     "text": [
      "            x1          x2          x3\n",
      "1   108.354568  112.810205  107.116902\n",
      "2    93.848643  103.016066   94.569601\n",
      "3   117.067640   82.789368  106.864843\n",
      "4    80.700352  105.486105  100.846401\n",
      "5   103.288590  100.914785  102.883398\n",
      "6   100.821399  112.885231  113.556040\n",
      "7   103.389259   92.683997   94.599346\n",
      "8    96.264326  107.690734  110.724692\n",
      "9    98.690248   88.714454  120.842113\n",
      "10   96.658602  110.065863   98.815735\n",
      "11   98.408100   86.149291  105.926797\n",
      "12   94.261373   91.011694  106.177872\n",
      "13   95.885238   85.870061   99.188049\n",
      "14   89.497238  106.895153   93.705485\n",
      "15  101.639804   84.993715   84.970611\n",
      "16   80.974379  116.630734  100.170873\n",
      "17  102.604866   83.109144  104.640387\n",
      "18   97.198974   86.951190  120.806332\n",
      "19  107.111378   99.596854   92.720645\n",
      "20  108.810488   90.497136   89.909270\n"
     ]
    }
   ],
   "source": [
    "#seu código aqui\n",
    "# Transformar o ndarray em um DataFrame\n",
    "df = pd.DataFrame(arr, columns=['x1', 'x2', 'x3'])\n",
    "\n",
    "# Nomear os índices das linhas com inteiros de 1 a 20\n",
    "df.index = range(1, 21)\n",
    "\n",
    "# Exibir o DataFrame resultante\n",
    "print(df)"
   ]
  },
  {
   "cell_type": "markdown",
   "metadata": {},
   "source": [
    "#### 6) No DataFrame do exercício 5, crie uma nova coluna como sendo a média das três colunas, e dê a ela o nome de \"media\" (não recomendo colocar acentos em nomes de variáveis)."
   ]
  },
  {
   "cell_type": "code",
   "execution_count": 9,
   "metadata": {},
   "outputs": [
    {
     "name": "stdout",
     "output_type": "stream",
     "text": [
      "            x1          x2          x3       media\n",
      "1   108.354568  112.810205  107.116902  109.427225\n",
      "2    93.848643  103.016066   94.569601   97.144770\n",
      "3   117.067640   82.789368  106.864843  102.240617\n",
      "4    80.700352  105.486105  100.846401   95.677619\n",
      "5   103.288590  100.914785  102.883398  102.362258\n",
      "6   100.821399  112.885231  113.556040  109.087557\n",
      "7   103.389259   92.683997   94.599346   96.890868\n",
      "8    96.264326  107.690734  110.724692  104.893251\n",
      "9    98.690248   88.714454  120.842113  102.748938\n",
      "10   96.658602  110.065863   98.815735  101.846733\n",
      "11   98.408100   86.149291  105.926797   96.828063\n",
      "12   94.261373   91.011694  106.177872   97.150313\n",
      "13   95.885238   85.870061   99.188049   93.647782\n",
      "14   89.497238  106.895153   93.705485   96.699292\n",
      "15  101.639804   84.993715   84.970611   90.534710\n",
      "16   80.974379  116.630734  100.170873   99.258662\n",
      "17  102.604866   83.109144  104.640387   96.784799\n",
      "18   97.198974   86.951190  120.806332  101.652166\n",
      "19  107.111378   99.596854   92.720645   99.809626\n",
      "20  108.810488   90.497136   89.909270   96.405631\n"
     ]
    }
   ],
   "source": [
    "# seu código aqui\n",
    "df['media'] = df.mean(axis=1)\n",
    "\n",
    "# Exibir o DataFrame atualizado\n",
    "print(df)"
   ]
  },
  {
   "cell_type": "markdown",
   "metadata": {},
   "source": [
    "#### 7) No DataFrame do exercício 6, crie uma nova coluna chamada \"log_med\", contendo o logaritmo natural da média calculada no exercício 6 <br>"
   ]
  },
  {
   "cell_type": "code",
   "execution_count": 10,
   "metadata": {},
   "outputs": [
    {
     "name": "stdout",
     "output_type": "stream",
     "text": [
      "            x1          x2          x3       media   log_med\n",
      "1   108.354568  112.810205  107.116902  109.427225  4.695260\n",
      "2    93.848643  103.016066   94.569601   97.144770  4.576202\n",
      "3   117.067640   82.789368  106.864843  102.240617  4.627329\n",
      "4    80.700352  105.486105  100.846401   95.677619  4.560984\n",
      "5   103.288590  100.914785  102.883398  102.362258  4.628518\n",
      "6   100.821399  112.885231  113.556040  109.087557  4.692151\n",
      "7   103.389259   92.683997   94.599346   96.890868  4.573585\n",
      "8    96.264326  107.690734  110.724692  104.893251  4.652943\n",
      "9    98.690248   88.714454  120.842113  102.748938  4.632289\n",
      "10   96.658602  110.065863   98.815735  101.846733  4.623469\n",
      "11   98.408100   86.149291  105.926797   96.828063  4.572937\n",
      "12   94.261373   91.011694  106.177872   97.150313  4.576259\n",
      "13   95.885238   85.870061   99.188049   93.647782  4.539541\n",
      "14   89.497238  106.895153   93.705485   96.699292  4.571606\n",
      "15  101.639804   84.993715   84.970611   90.534710  4.505733\n",
      "16   80.974379  116.630734  100.170873   99.258662  4.597729\n",
      "17  102.604866   83.109144  104.640387   96.784799  4.572490\n",
      "18   97.198974   86.951190  120.806332  101.652166  4.621557\n",
      "19  107.111378   99.596854   92.720645   99.809626  4.603265\n",
      "20  108.810488   90.497136   89.909270   96.405631  4.568565\n"
     ]
    }
   ],
   "source": [
    "# seu código aqui\n",
    "df['log_med'] = np.log(df['media'])\n",
    "\n",
    "# Exibir o DataFrame atualizado\n",
    "print(df)"
   ]
  },
  {
   "cell_type": "code",
   "execution_count": null,
   "metadata": {},
   "outputs": [],
   "source": []
  }
 ],
 "metadata": {
  "kernelspec": {
   "display_name": "Python 3 (ipykernel)",
   "language": "python",
   "name": "python3"
  },
  "language_info": {
   "codemirror_mode": {
    "name": "ipython",
    "version": 3
   },
   "file_extension": ".py",
   "mimetype": "text/x-python",
   "name": "python",
   "nbconvert_exporter": "python",
   "pygments_lexer": "ipython3",
   "version": "3.11.7"
  }
 },
 "nbformat": 4,
 "nbformat_minor": 4
}
